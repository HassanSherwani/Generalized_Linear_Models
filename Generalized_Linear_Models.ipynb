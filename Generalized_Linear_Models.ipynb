{
 "cells": [
  {
   "cell_type": "markdown",
   "metadata": {},
   "source": [
    "# Generalized Linear Models\n",
    "\n",
    "We shall start with sample OLS model. Then we ll apply \n",
    "\n",
    "- GLM: Gamma for proportional count  \n",
    "- GLM: Binomial\n"
   ]
  },
  {
   "cell_type": "markdown",
   "metadata": {},
   "source": [
    "# 1)- Importing key libraries "
   ]
  },
  {
   "cell_type": "code",
   "execution_count": 1,
   "metadata": {},
   "outputs": [],
   "source": [
    "#support both Python 2 and Python 3 with minimal overhead.\n",
    "from __future__ import absolute_import, division, print_function"
   ]
  },
  {
   "cell_type": "code",
   "execution_count": 2,
   "metadata": {},
   "outputs": [],
   "source": [
    "# I am an engineer. I care only about error not warning. So, let's be maverick and ignore warnings.\n",
    "import warnings\n",
    "warnings.filterwarnings('ignore')"
   ]
  },
  {
   "cell_type": "code",
   "execution_count": 3,
   "metadata": {},
   "outputs": [
    {
     "data": {
      "text/html": [
       "<style>body {\n",
       "    margin: 0;\n",
       "    font-family: Helvetica;\n",
       "}\n",
       "table.dataframe {\n",
       "    border-collapse: collapse;\n",
       "    border: none;\n",
       "}\n",
       "table.dataframe tr {\n",
       "    border: none;\n",
       "}\n",
       "table.dataframe td, table.dataframe th {\n",
       "    margin: 0;\n",
       "    border: 1px solid white;\n",
       "    padding-left: 0.25em;\n",
       "    padding-right: 0.25em;\n",
       "}\n",
       "table.dataframe th:not(:empty) {\n",
       "    background-color: #fec;\n",
       "    text-align: left;\n",
       "    font-weight: normal;\n",
       "}\n",
       "table.dataframe tr:nth-child(2) th:empty {\n",
       "    border-left: none;\n",
       "    border-right: 1px dashed #888;\n",
       "}\n",
       "table.dataframe td {\n",
       "    border: 2px solid #ccf;\n",
       "    background-color: #f4f4ff;\n",
       "}\n",
       "h3 {\n",
       "    color: white;\n",
       "    background-color: black;\n",
       "    padding: 0.5em;\n",
       "}\n",
       "</style>"
      ],
      "text/plain": [
       "<IPython.core.display.HTML object>"
      ]
     },
     "execution_count": 3,
     "metadata": {},
     "output_type": "execute_result"
    }
   ],
   "source": [
    "# What's life without style :). So, let's add style to our dataframes\n",
    "from IPython.core.display import HTML\n",
    "css = open('style-table.css').read() + open('style-notebook.css').read()\n",
    "HTML('<style>{}</style>'.format(css))"
   ]
  },
  {
   "cell_type": "code",
   "execution_count": 5,
   "metadata": {},
   "outputs": [],
   "source": [
    "import pandas as pd\n",
    "import numpy as np\n",
    "import statsmodels.api as sm\n",
    "import statsmodels.formula.api as smf\n",
    "from scipy import stats\n",
    "import sys\n",
    "import matplotlib.pyplot as plt\n",
    "import seaborn as sns\n",
    "%matplotlib inline"
   ]
  },
  {
   "cell_type": "code",
   "execution_count": 6,
   "metadata": {},
   "outputs": [
    {
     "data": {
      "application/json": {
       "Software versions": [
        {
         "module": "Python",
         "version": "3.6.5 64bit [MSC v.1900 64 bit (AMD64)]"
        },
        {
         "module": "IPython",
         "version": "6.4.0"
        },
        {
         "module": "OS",
         "version": "Windows 10 10.0.18362 SP0"
        },
        {
         "module": "pandas",
         "version": "0.24.1"
        },
        {
         "module": "numpy",
         "version": "1.16.0"
        },
        {
         "module": "seaborn",
         "version": "0.9.0"
        },
        {
         "module": "matplotlib",
         "version": "3.0.2"
        },
        {
         "module": "sys",
         "version": "The 'sys' distribution was not found and is required by the application"
        },
        {
         "module": "h2o",
         "version": "3.26.0.3"
        }
       ]
      },
      "text/html": [
       "<table><tr><th>Software</th><th>Version</th></tr><tr><td>Python</td><td>3.6.5 64bit [MSC v.1900 64 bit (AMD64)]</td></tr><tr><td>IPython</td><td>6.4.0</td></tr><tr><td>OS</td><td>Windows 10 10.0.18362 SP0</td></tr><tr><td>pandas</td><td>0.24.1</td></tr><tr><td>numpy</td><td>1.16.0</td></tr><tr><td>seaborn</td><td>0.9.0</td></tr><tr><td>matplotlib</td><td>3.0.2</td></tr><tr><td>sys</td><td>The 'sys' distribution was not found and is required by the application</td></tr><tr><td>h2o</td><td>3.26.0.3</td></tr><tr><td colspan='2'>Sun Aug 25 11:12:38 2019 W. Europe Daylight Time</td></tr></table>"
      ],
      "text/latex": [
       "\\begin{tabular}{|l|l|}\\hline\n",
       "{\\bf Software} & {\\bf Version} \\\\ \\hline\\hline\n",
       "Python & 3.6.5 64bit [MSC v.1900 64 bit (AMD64)] \\\\ \\hline\n",
       "IPython & 6.4.0 \\\\ \\hline\n",
       "OS & Windows 10 10.0.18362 SP0 \\\\ \\hline\n",
       "pandas & 0.24.1 \\\\ \\hline\n",
       "numpy & 1.16.0 \\\\ \\hline\n",
       "seaborn & 0.9.0 \\\\ \\hline\n",
       "matplotlib & 3.0.2 \\\\ \\hline\n",
       "sys & The 'sys' distribution was not found and is required by the application \\\\ \\hline\n",
       "h2o & 3.26.0.3 \\\\ \\hline\n",
       "\\hline \\multicolumn{2}{|l|}{Sun Aug 25 11:12:38 2019 W. Europe Daylight Time} \\\\ \\hline\n",
       "\\end{tabular}\n"
      ],
      "text/plain": [
       "Software versions\n",
       "Python 3.6.5 64bit [MSC v.1900 64 bit (AMD64)]\n",
       "IPython 6.4.0\n",
       "OS Windows 10 10.0.18362 SP0\n",
       "pandas 0.24.1\n",
       "numpy 1.16.0\n",
       "seaborn 0.9.0\n",
       "matplotlib 3.0.2\n",
       "sys The 'sys' distribution was not found and is required by the application\n",
       "h2o 3.26.0.3\n",
       "Sun Aug 25 11:12:38 2019 W. Europe Daylight Time"
      ]
     },
     "execution_count": 6,
     "metadata": {},
     "output_type": "execute_result"
    }
   ],
   "source": [
    "# first install: pip install version_information\n",
    "%reload_ext version_information\n",
    "%version_information pandas, numpy, seaborn, matplotlib, sys,h2o"
   ]
  },
  {
   "cell_type": "markdown",
   "metadata": {},
   "source": [
    "# 2)- Loading data"
   ]
  },
  {
   "cell_type": "code",
   "execution_count": 7,
   "metadata": {},
   "outputs": [],
   "source": [
    "df = sm.datasets.get_rdataset(\"Guerry\", \"HistData\").data"
   ]
  },
  {
   "cell_type": "code",
   "execution_count": 8,
   "metadata": {
    "scrolled": true
   },
   "outputs": [
    {
     "data": {
      "text/html": [
       "<div>\n",
       "<style scoped>\n",
       "    .dataframe tbody tr th:only-of-type {\n",
       "        vertical-align: middle;\n",
       "    }\n",
       "\n",
       "    .dataframe tbody tr th {\n",
       "        vertical-align: top;\n",
       "    }\n",
       "\n",
       "    .dataframe thead th {\n",
       "        text-align: right;\n",
       "    }\n",
       "</style>\n",
       "<table border=\"1\" class=\"dataframe\">\n",
       "  <thead>\n",
       "    <tr style=\"text-align: right;\">\n",
       "      <th></th>\n",
       "      <th>dept</th>\n",
       "      <th>Region</th>\n",
       "      <th>Department</th>\n",
       "      <th>Crime_pers</th>\n",
       "      <th>Crime_prop</th>\n",
       "      <th>Literacy</th>\n",
       "      <th>Donations</th>\n",
       "      <th>Infants</th>\n",
       "      <th>Suicides</th>\n",
       "      <th>MainCity</th>\n",
       "      <th>...</th>\n",
       "      <th>Crime_parents</th>\n",
       "      <th>Infanticide</th>\n",
       "      <th>Donation_clergy</th>\n",
       "      <th>Lottery</th>\n",
       "      <th>Desertion</th>\n",
       "      <th>Instruction</th>\n",
       "      <th>Prostitutes</th>\n",
       "      <th>Distance</th>\n",
       "      <th>Area</th>\n",
       "      <th>Pop1831</th>\n",
       "    </tr>\n",
       "  </thead>\n",
       "  <tbody>\n",
       "    <tr>\n",
       "      <th>0</th>\n",
       "      <td>1</td>\n",
       "      <td>E</td>\n",
       "      <td>Ain</td>\n",
       "      <td>28870</td>\n",
       "      <td>15890</td>\n",
       "      <td>37</td>\n",
       "      <td>5098</td>\n",
       "      <td>33120</td>\n",
       "      <td>35039</td>\n",
       "      <td>2:Med</td>\n",
       "      <td>...</td>\n",
       "      <td>71</td>\n",
       "      <td>60</td>\n",
       "      <td>69</td>\n",
       "      <td>41</td>\n",
       "      <td>55</td>\n",
       "      <td>46</td>\n",
       "      <td>13</td>\n",
       "      <td>218.372</td>\n",
       "      <td>5762</td>\n",
       "      <td>346.03</td>\n",
       "    </tr>\n",
       "    <tr>\n",
       "      <th>1</th>\n",
       "      <td>2</td>\n",
       "      <td>N</td>\n",
       "      <td>Aisne</td>\n",
       "      <td>26226</td>\n",
       "      <td>5521</td>\n",
       "      <td>51</td>\n",
       "      <td>8901</td>\n",
       "      <td>14572</td>\n",
       "      <td>12831</td>\n",
       "      <td>2:Med</td>\n",
       "      <td>...</td>\n",
       "      <td>4</td>\n",
       "      <td>82</td>\n",
       "      <td>36</td>\n",
       "      <td>38</td>\n",
       "      <td>82</td>\n",
       "      <td>24</td>\n",
       "      <td>327</td>\n",
       "      <td>65.945</td>\n",
       "      <td>7369</td>\n",
       "      <td>513.00</td>\n",
       "    </tr>\n",
       "    <tr>\n",
       "      <th>2</th>\n",
       "      <td>3</td>\n",
       "      <td>C</td>\n",
       "      <td>Allier</td>\n",
       "      <td>26747</td>\n",
       "      <td>7925</td>\n",
       "      <td>13</td>\n",
       "      <td>10973</td>\n",
       "      <td>17044</td>\n",
       "      <td>114121</td>\n",
       "      <td>2:Med</td>\n",
       "      <td>...</td>\n",
       "      <td>46</td>\n",
       "      <td>42</td>\n",
       "      <td>76</td>\n",
       "      <td>66</td>\n",
       "      <td>16</td>\n",
       "      <td>85</td>\n",
       "      <td>34</td>\n",
       "      <td>161.927</td>\n",
       "      <td>7340</td>\n",
       "      <td>298.26</td>\n",
       "    </tr>\n",
       "    <tr>\n",
       "      <th>3</th>\n",
       "      <td>4</td>\n",
       "      <td>E</td>\n",
       "      <td>Basses-Alpes</td>\n",
       "      <td>12935</td>\n",
       "      <td>7289</td>\n",
       "      <td>46</td>\n",
       "      <td>2733</td>\n",
       "      <td>23018</td>\n",
       "      <td>14238</td>\n",
       "      <td>1:Sm</td>\n",
       "      <td>...</td>\n",
       "      <td>70</td>\n",
       "      <td>12</td>\n",
       "      <td>37</td>\n",
       "      <td>80</td>\n",
       "      <td>32</td>\n",
       "      <td>29</td>\n",
       "      <td>2</td>\n",
       "      <td>351.399</td>\n",
       "      <td>6925</td>\n",
       "      <td>155.90</td>\n",
       "    </tr>\n",
       "    <tr>\n",
       "      <th>4</th>\n",
       "      <td>5</td>\n",
       "      <td>E</td>\n",
       "      <td>Hautes-Alpes</td>\n",
       "      <td>17488</td>\n",
       "      <td>8174</td>\n",
       "      <td>69</td>\n",
       "      <td>6962</td>\n",
       "      <td>23076</td>\n",
       "      <td>16171</td>\n",
       "      <td>1:Sm</td>\n",
       "      <td>...</td>\n",
       "      <td>22</td>\n",
       "      <td>23</td>\n",
       "      <td>64</td>\n",
       "      <td>79</td>\n",
       "      <td>35</td>\n",
       "      <td>7</td>\n",
       "      <td>1</td>\n",
       "      <td>320.280</td>\n",
       "      <td>5549</td>\n",
       "      <td>129.10</td>\n",
       "    </tr>\n",
       "  </tbody>\n",
       "</table>\n",
       "<p>5 rows × 23 columns</p>\n",
       "</div>"
      ],
      "text/plain": [
       "   dept Region    Department  Crime_pers  Crime_prop  Literacy  Donations  \\\n",
       "0     1      E           Ain       28870       15890        37       5098   \n",
       "1     2      N         Aisne       26226        5521        51       8901   \n",
       "2     3      C        Allier       26747        7925        13      10973   \n",
       "3     4      E  Basses-Alpes       12935        7289        46       2733   \n",
       "4     5      E  Hautes-Alpes       17488        8174        69       6962   \n",
       "\n",
       "   Infants  Suicides MainCity  ...  Crime_parents  Infanticide  \\\n",
       "0    33120     35039    2:Med  ...             71           60   \n",
       "1    14572     12831    2:Med  ...              4           82   \n",
       "2    17044    114121    2:Med  ...             46           42   \n",
       "3    23018     14238     1:Sm  ...             70           12   \n",
       "4    23076     16171     1:Sm  ...             22           23   \n",
       "\n",
       "   Donation_clergy  Lottery  Desertion  Instruction  Prostitutes  Distance  \\\n",
       "0               69       41         55           46           13   218.372   \n",
       "1               36       38         82           24          327    65.945   \n",
       "2               76       66         16           85           34   161.927   \n",
       "3               37       80         32           29            2   351.399   \n",
       "4               64       79         35            7            1   320.280   \n",
       "\n",
       "   Area  Pop1831  \n",
       "0  5762   346.03  \n",
       "1  7369   513.00  \n",
       "2  7340   298.26  \n",
       "3  6925   155.90  \n",
       "4  5549   129.10  \n",
       "\n",
       "[5 rows x 23 columns]"
      ]
     },
     "execution_count": 8,
     "metadata": {},
     "output_type": "execute_result"
    }
   ],
   "source": [
    "df.head()"
   ]
  },
  {
   "cell_type": "markdown",
   "metadata": {},
   "source": [
    "Lottery being our dependant variable"
   ]
  },
  {
   "cell_type": "markdown",
   "metadata": {},
   "source": [
    "# 3)- Exploring data"
   ]
  },
  {
   "cell_type": "markdown",
   "metadata": {},
   "source": [
    "### 3.1)- Data type"
   ]
  },
  {
   "cell_type": "code",
   "execution_count": 9,
   "metadata": {},
   "outputs": [
    {
     "data": {
      "text/html": [
       "<div>\n",
       "<style scoped>\n",
       "    .dataframe tbody tr th:only-of-type {\n",
       "        vertical-align: middle;\n",
       "    }\n",
       "\n",
       "    .dataframe tbody tr th {\n",
       "        vertical-align: top;\n",
       "    }\n",
       "\n",
       "    .dataframe thead th {\n",
       "        text-align: right;\n",
       "    }\n",
       "</style>\n",
       "<table border=\"1\" class=\"dataframe\">\n",
       "  <thead>\n",
       "    <tr style=\"text-align: right;\">\n",
       "      <th></th>\n",
       "      <th>Data Type</th>\n",
       "    </tr>\n",
       "  </thead>\n",
       "  <tbody>\n",
       "    <tr>\n",
       "      <th>dept</th>\n",
       "      <td>int64</td>\n",
       "    </tr>\n",
       "    <tr>\n",
       "      <th>Prostitutes</th>\n",
       "      <td>int64</td>\n",
       "    </tr>\n",
       "    <tr>\n",
       "      <th>Instruction</th>\n",
       "      <td>int64</td>\n",
       "    </tr>\n",
       "    <tr>\n",
       "      <th>Desertion</th>\n",
       "      <td>int64</td>\n",
       "    </tr>\n",
       "    <tr>\n",
       "      <th>Lottery</th>\n",
       "      <td>int64</td>\n",
       "    </tr>\n",
       "    <tr>\n",
       "      <th>Donation_clergy</th>\n",
       "      <td>int64</td>\n",
       "    </tr>\n",
       "    <tr>\n",
       "      <th>Infanticide</th>\n",
       "      <td>int64</td>\n",
       "    </tr>\n",
       "    <tr>\n",
       "      <th>Crime_parents</th>\n",
       "      <td>int64</td>\n",
       "    </tr>\n",
       "    <tr>\n",
       "      <th>Clergy</th>\n",
       "      <td>int64</td>\n",
       "    </tr>\n",
       "    <tr>\n",
       "      <th>Area</th>\n",
       "      <td>int64</td>\n",
       "    </tr>\n",
       "    <tr>\n",
       "      <th>Commerce</th>\n",
       "      <td>int64</td>\n",
       "    </tr>\n",
       "    <tr>\n",
       "      <th>Suicides</th>\n",
       "      <td>int64</td>\n",
       "    </tr>\n",
       "    <tr>\n",
       "      <th>Infants</th>\n",
       "      <td>int64</td>\n",
       "    </tr>\n",
       "    <tr>\n",
       "      <th>Donations</th>\n",
       "      <td>int64</td>\n",
       "    </tr>\n",
       "    <tr>\n",
       "      <th>Literacy</th>\n",
       "      <td>int64</td>\n",
       "    </tr>\n",
       "    <tr>\n",
       "      <th>Crime_prop</th>\n",
       "      <td>int64</td>\n",
       "    </tr>\n",
       "    <tr>\n",
       "      <th>Crime_pers</th>\n",
       "      <td>int64</td>\n",
       "    </tr>\n",
       "    <tr>\n",
       "      <th>Wealth</th>\n",
       "      <td>int64</td>\n",
       "    </tr>\n",
       "    <tr>\n",
       "      <th>Distance</th>\n",
       "      <td>float64</td>\n",
       "    </tr>\n",
       "    <tr>\n",
       "      <th>Pop1831</th>\n",
       "      <td>float64</td>\n",
       "    </tr>\n",
       "    <tr>\n",
       "      <th>MainCity</th>\n",
       "      <td>object</td>\n",
       "    </tr>\n",
       "    <tr>\n",
       "      <th>Department</th>\n",
       "      <td>object</td>\n",
       "    </tr>\n",
       "    <tr>\n",
       "      <th>Region</th>\n",
       "      <td>object</td>\n",
       "    </tr>\n",
       "  </tbody>\n",
       "</table>\n",
       "</div>"
      ],
      "text/plain": [
       "                Data Type\n",
       "dept                int64\n",
       "Prostitutes         int64\n",
       "Instruction         int64\n",
       "Desertion           int64\n",
       "Lottery             int64\n",
       "Donation_clergy     int64\n",
       "Infanticide         int64\n",
       "Crime_parents       int64\n",
       "Clergy              int64\n",
       "Area                int64\n",
       "Commerce            int64\n",
       "Suicides            int64\n",
       "Infants             int64\n",
       "Donations           int64\n",
       "Literacy            int64\n",
       "Crime_prop          int64\n",
       "Crime_pers          int64\n",
       "Wealth              int64\n",
       "Distance          float64\n",
       "Pop1831           float64\n",
       "MainCity           object\n",
       "Department         object\n",
       "Region             object"
      ]
     },
     "execution_count": 9,
     "metadata": {},
     "output_type": "execute_result"
    }
   ],
   "source": [
    "# Checking all variables with their data-type\n",
    "def _tbl_dtype(dataset):\n",
    "    sum_dtype = pd.DataFrame(dataset.dtypes).sort_values(0).rename(columns = {0:'Data Type'})\n",
    "    return sum_dtype\n",
    "\n",
    "table_dtype = _tbl_dtype(df)\n",
    "table_dtype"
   ]
  },
  {
   "cell_type": "markdown",
   "metadata": {},
   "source": [
    "### 3.2)-Checking categorical variables"
   ]
  },
  {
   "cell_type": "code",
   "execution_count": 10,
   "metadata": {},
   "outputs": [
    {
     "data": {
      "text/plain": [
       "Region         5\n",
       "Department    86\n",
       "MainCity       3\n",
       "dtype: int64"
      ]
     },
     "execution_count": 10,
     "metadata": {},
     "output_type": "execute_result"
    }
   ],
   "source": [
    "# Checking unique categorical variables\n",
    "df.select_dtypes('object').apply(pd.Series.nunique, axis = 0)"
   ]
  },
  {
   "cell_type": "code",
   "execution_count": 11,
   "metadata": {},
   "outputs": [
    {
     "data": {
      "text/plain": [
       "<matplotlib.axes._subplots.AxesSubplot at 0x20ad491e400>"
      ]
     },
     "execution_count": 11,
     "metadata": {},
     "output_type": "execute_result"
    },
    {
     "data": {
      "image/png": "[encoded data removed]",
      "text/plain": [
       "<Figure size 432x288 with 1 Axes>"
      ]
     },
     "metadata": {},
     "output_type": "display_data"
    }
   ],
   "source": [
    "df.MainCity.value_counts().plot(kind='barh')"
   ]
  },
  {
   "cell_type": "markdown",
   "metadata": {},
   "source": [
    "### 3.3)-Data Description"
   ]
  },
  {
   "cell_type": "code",
   "execution_count": 12,
   "metadata": {},
   "outputs": [
    {
     "data": {
      "text/html": [
       "<div>\n",
       "<style scoped>\n",
       "    .dataframe tbody tr th:only-of-type {\n",
       "        vertical-align: middle;\n",
       "    }\n",
       "\n",
       "    .dataframe tbody tr th {\n",
       "        vertical-align: top;\n",
       "    }\n",
       "\n",
       "    .dataframe thead th {\n",
       "        text-align: right;\n",
       "    }\n",
       "</style>\n",
       "<table border=\"1\" class=\"dataframe\">\n",
       "  <thead>\n",
       "    <tr style=\"text-align: right;\">\n",
       "      <th></th>\n",
       "      <th>dept</th>\n",
       "      <th>Crime_pers</th>\n",
       "      <th>Crime_prop</th>\n",
       "      <th>Literacy</th>\n",
       "      <th>Donations</th>\n",
       "      <th>Infants</th>\n",
       "      <th>Suicides</th>\n",
       "      <th>Wealth</th>\n",
       "      <th>Commerce</th>\n",
       "      <th>Clergy</th>\n",
       "      <th>Crime_parents</th>\n",
       "      <th>Infanticide</th>\n",
       "      <th>Donation_clergy</th>\n",
       "      <th>Lottery</th>\n",
       "      <th>Desertion</th>\n",
       "      <th>Instruction</th>\n",
       "      <th>Prostitutes</th>\n",
       "      <th>Distance</th>\n",
       "      <th>Area</th>\n",
       "      <th>Pop1831</th>\n",
       "    </tr>\n",
       "  </thead>\n",
       "  <tbody>\n",
       "    <tr>\n",
       "      <th>count</th>\n",
       "      <td>86.000000</td>\n",
       "      <td>86.000000</td>\n",
       "      <td>86.000000</td>\n",
       "      <td>86.000000</td>\n",
       "      <td>86.000000</td>\n",
       "      <td>86.000000</td>\n",
       "      <td>86.000000</td>\n",
       "      <td>86.000000</td>\n",
       "      <td>86.000000</td>\n",
       "      <td>86.000000</td>\n",
       "      <td>86.000000</td>\n",
       "      <td>86.000000</td>\n",
       "      <td>86.000000</td>\n",
       "      <td>86.000000</td>\n",
       "      <td>86.000000</td>\n",
       "      <td>86.000000</td>\n",
       "      <td>86.000000</td>\n",
       "      <td>86.000000</td>\n",
       "      <td>86.000000</td>\n",
       "      <td>86.000000</td>\n",
       "    </tr>\n",
       "    <tr>\n",
       "      <th>mean</th>\n",
       "      <td>46.883721</td>\n",
       "      <td>19754.406977</td>\n",
       "      <td>7843.058140</td>\n",
       "      <td>39.255814</td>\n",
       "      <td>7075.546512</td>\n",
       "      <td>19049.906977</td>\n",
       "      <td>36522.604651</td>\n",
       "      <td>43.500000</td>\n",
       "      <td>42.802326</td>\n",
       "      <td>43.430233</td>\n",
       "      <td>43.500000</td>\n",
       "      <td>43.511628</td>\n",
       "      <td>43.500000</td>\n",
       "      <td>43.500000</td>\n",
       "      <td>43.500000</td>\n",
       "      <td>43.127907</td>\n",
       "      <td>141.872093</td>\n",
       "      <td>207.953140</td>\n",
       "      <td>6146.988372</td>\n",
       "      <td>378.628721</td>\n",
       "    </tr>\n",
       "    <tr>\n",
       "      <th>std</th>\n",
       "      <td>30.426157</td>\n",
       "      <td>7504.703073</td>\n",
       "      <td>3051.352839</td>\n",
       "      <td>17.364051</td>\n",
       "      <td>5834.595216</td>\n",
       "      <td>8820.233546</td>\n",
       "      <td>31312.532649</td>\n",
       "      <td>24.969982</td>\n",
       "      <td>25.028370</td>\n",
       "      <td>24.999549</td>\n",
       "      <td>24.969982</td>\n",
       "      <td>24.948297</td>\n",
       "      <td>24.969982</td>\n",
       "      <td>24.969982</td>\n",
       "      <td>24.969982</td>\n",
       "      <td>24.799809</td>\n",
       "      <td>520.969318</td>\n",
       "      <td>109.320837</td>\n",
       "      <td>1398.246620</td>\n",
       "      <td>148.777230</td>\n",
       "    </tr>\n",
       "    <tr>\n",
       "      <th>min</th>\n",
       "      <td>1.000000</td>\n",
       "      <td>2199.000000</td>\n",
       "      <td>1368.000000</td>\n",
       "      <td>12.000000</td>\n",
       "      <td>1246.000000</td>\n",
       "      <td>2660.000000</td>\n",
       "      <td>3460.000000</td>\n",
       "      <td>1.000000</td>\n",
       "      <td>1.000000</td>\n",
       "      <td>1.000000</td>\n",
       "      <td>1.000000</td>\n",
       "      <td>1.000000</td>\n",
       "      <td>1.000000</td>\n",
       "      <td>1.000000</td>\n",
       "      <td>1.000000</td>\n",
       "      <td>1.000000</td>\n",
       "      <td>0.000000</td>\n",
       "      <td>0.000000</td>\n",
       "      <td>762.000000</td>\n",
       "      <td>129.100000</td>\n",
       "    </tr>\n",
       "    <tr>\n",
       "      <th>25%</th>\n",
       "      <td>24.250000</td>\n",
       "      <td>14156.250000</td>\n",
       "      <td>5933.000000</td>\n",
       "      <td>25.000000</td>\n",
       "      <td>3446.750000</td>\n",
       "      <td>14299.750000</td>\n",
       "      <td>15463.000000</td>\n",
       "      <td>22.250000</td>\n",
       "      <td>21.250000</td>\n",
       "      <td>22.250000</td>\n",
       "      <td>22.250000</td>\n",
       "      <td>22.250000</td>\n",
       "      <td>22.250000</td>\n",
       "      <td>22.250000</td>\n",
       "      <td>22.250000</td>\n",
       "      <td>23.250000</td>\n",
       "      <td>6.000000</td>\n",
       "      <td>121.383000</td>\n",
       "      <td>5400.750000</td>\n",
       "      <td>283.005000</td>\n",
       "    </tr>\n",
       "    <tr>\n",
       "      <th>50%</th>\n",
       "      <td>45.500000</td>\n",
       "      <td>18748.500000</td>\n",
       "      <td>7595.000000</td>\n",
       "      <td>38.000000</td>\n",
       "      <td>5020.000000</td>\n",
       "      <td>17141.500000</td>\n",
       "      <td>26743.500000</td>\n",
       "      <td>43.500000</td>\n",
       "      <td>42.500000</td>\n",
       "      <td>43.500000</td>\n",
       "      <td>43.500000</td>\n",
       "      <td>43.500000</td>\n",
       "      <td>43.500000</td>\n",
       "      <td>43.500000</td>\n",
       "      <td>43.500000</td>\n",
       "      <td>41.500000</td>\n",
       "      <td>33.000000</td>\n",
       "      <td>200.616000</td>\n",
       "      <td>6070.500000</td>\n",
       "      <td>346.165000</td>\n",
       "    </tr>\n",
       "    <tr>\n",
       "      <th>75%</th>\n",
       "      <td>66.750000</td>\n",
       "      <td>25937.500000</td>\n",
       "      <td>9182.250000</td>\n",
       "      <td>51.750000</td>\n",
       "      <td>9446.750000</td>\n",
       "      <td>22682.250000</td>\n",
       "      <td>44057.500000</td>\n",
       "      <td>64.750000</td>\n",
       "      <td>63.750000</td>\n",
       "      <td>64.750000</td>\n",
       "      <td>64.750000</td>\n",
       "      <td>64.750000</td>\n",
       "      <td>64.750000</td>\n",
       "      <td>64.750000</td>\n",
       "      <td>64.750000</td>\n",
       "      <td>64.750000</td>\n",
       "      <td>113.750000</td>\n",
       "      <td>289.670500</td>\n",
       "      <td>6816.500000</td>\n",
       "      <td>444.407500</td>\n",
       "    </tr>\n",
       "    <tr>\n",
       "      <th>max</th>\n",
       "      <td>200.000000</td>\n",
       "      <td>37014.000000</td>\n",
       "      <td>20235.000000</td>\n",
       "      <td>74.000000</td>\n",
       "      <td>37015.000000</td>\n",
       "      <td>62486.000000</td>\n",
       "      <td>163241.000000</td>\n",
       "      <td>86.000000</td>\n",
       "      <td>86.000000</td>\n",
       "      <td>86.000000</td>\n",
       "      <td>86.000000</td>\n",
       "      <td>86.000000</td>\n",
       "      <td>86.000000</td>\n",
       "      <td>86.000000</td>\n",
       "      <td>86.000000</td>\n",
       "      <td>86.000000</td>\n",
       "      <td>4744.000000</td>\n",
       "      <td>539.213000</td>\n",
       "      <td>10000.000000</td>\n",
       "      <td>989.940000</td>\n",
       "    </tr>\n",
       "  </tbody>\n",
       "</table>\n",
       "</div>"
      ],
      "text/plain": [
       "             dept    Crime_pers    Crime_prop   Literacy     Donations  \\\n",
       "count   86.000000     86.000000     86.000000  86.000000     86.000000   \n",
       "mean    46.883721  19754.406977   7843.058140  39.255814   7075.546512   \n",
       "std     30.426157   7504.703073   3051.352839  17.364051   5834.595216   \n",
       "min      1.000000   2199.000000   1368.000000  12.000000   1246.000000   \n",
       "25%     24.250000  14156.250000   5933.000000  25.000000   3446.750000   \n",
       "50%     45.500000  18748.500000   7595.000000  38.000000   5020.000000   \n",
       "75%     66.750000  25937.500000   9182.250000  51.750000   9446.750000   \n",
       "max    200.000000  37014.000000  20235.000000  74.000000  37015.000000   \n",
       "\n",
       "            Infants       Suicides     Wealth   Commerce     Clergy  \\\n",
       "count     86.000000      86.000000  86.000000  86.000000  86.000000   \n",
       "mean   19049.906977   36522.604651  43.500000  42.802326  43.430233   \n",
       "std     8820.233546   31312.532649  24.969982  25.028370  24.999549   \n",
       "min     2660.000000    3460.000000   1.000000   1.000000   1.000000   \n",
       "25%    14299.750000   15463.000000  22.250000  21.250000  22.250000   \n",
       "50%    17141.500000   26743.500000  43.500000  42.500000  43.500000   \n",
       "75%    22682.250000   44057.500000  64.750000  63.750000  64.750000   \n",
       "max    62486.000000  163241.000000  86.000000  86.000000  86.000000   \n",
       "\n",
       "       Crime_parents  Infanticide  Donation_clergy    Lottery  Desertion  \\\n",
       "count      86.000000    86.000000        86.000000  86.000000  86.000000   \n",
       "mean       43.500000    43.511628        43.500000  43.500000  43.500000   \n",
       "std        24.969982    24.948297        24.969982  24.969982  24.969982   \n",
       "min         1.000000     1.000000         1.000000   1.000000   1.000000   \n",
       "25%        22.250000    22.250000        22.250000  22.250000  22.250000   \n",
       "50%        43.500000    43.500000        43.500000  43.500000  43.500000   \n",
       "75%        64.750000    64.750000        64.750000  64.750000  64.750000   \n",
       "max        86.000000    86.000000        86.000000  86.000000  86.000000   \n",
       "\n",
       "       Instruction  Prostitutes    Distance          Area     Pop1831  \n",
       "count    86.000000    86.000000   86.000000     86.000000   86.000000  \n",
       "mean     43.127907   141.872093  207.953140   6146.988372  378.628721  \n",
       "std      24.799809   520.969318  109.320837   1398.246620  148.777230  \n",
       "min       1.000000     0.000000    0.000000    762.000000  129.100000  \n",
       "25%      23.250000     6.000000  121.383000   5400.750000  283.005000  \n",
       "50%      41.500000    33.000000  200.616000   6070.500000  346.165000  \n",
       "75%      64.750000   113.750000  289.670500   6816.500000  444.407500  \n",
       "max      86.000000  4744.000000  539.213000  10000.000000  989.940000  "
      ]
     },
     "execution_count": 12,
     "metadata": {},
     "output_type": "execute_result"
    }
   ],
   "source": [
    "df.describe()"
   ]
  },
  {
   "cell_type": "markdown",
   "metadata": {},
   "source": [
    "### 3.4)-Sorting"
   ]
  },
  {
   "cell_type": "code",
   "execution_count": 13,
   "metadata": {},
   "outputs": [
    {
     "data": {
      "text/html": [
       "<div>\n",
       "<style scoped>\n",
       "    .dataframe tbody tr th:only-of-type {\n",
       "        vertical-align: middle;\n",
       "    }\n",
       "\n",
       "    .dataframe tbody tr th {\n",
       "        vertical-align: top;\n",
       "    }\n",
       "\n",
       "    .dataframe thead th {\n",
       "        text-align: right;\n",
       "    }\n",
       "</style>\n",
       "<table border=\"1\" class=\"dataframe\">\n",
       "  <thead>\n",
       "    <tr style=\"text-align: right;\">\n",
       "      <th></th>\n",
       "      <th>dept</th>\n",
       "      <th>Region</th>\n",
       "      <th>Department</th>\n",
       "      <th>Crime_pers</th>\n",
       "      <th>Crime_prop</th>\n",
       "      <th>Literacy</th>\n",
       "      <th>Donations</th>\n",
       "      <th>Infants</th>\n",
       "      <th>Suicides</th>\n",
       "      <th>MainCity</th>\n",
       "      <th>...</th>\n",
       "      <th>Crime_parents</th>\n",
       "      <th>Infanticide</th>\n",
       "      <th>Donation_clergy</th>\n",
       "      <th>Lottery</th>\n",
       "      <th>Desertion</th>\n",
       "      <th>Instruction</th>\n",
       "      <th>Prostitutes</th>\n",
       "      <th>Distance</th>\n",
       "      <th>Area</th>\n",
       "      <th>Pop1831</th>\n",
       "    </tr>\n",
       "  </thead>\n",
       "  <tbody>\n",
       "    <tr>\n",
       "      <th>45</th>\n",
       "      <td>48</td>\n",
       "      <td>S</td>\n",
       "      <td>Lozere</td>\n",
       "      <td>7710</td>\n",
       "      <td>5990</td>\n",
       "      <td>27</td>\n",
       "      <td>2040</td>\n",
       "      <td>25157</td>\n",
       "      <td>11092</td>\n",
       "      <td>1:Sm</td>\n",
       "      <td>...</td>\n",
       "      <td>72</td>\n",
       "      <td>45</td>\n",
       "      <td>42</td>\n",
       "      <td>86</td>\n",
       "      <td>5</td>\n",
       "      <td>60</td>\n",
       "      <td>0</td>\n",
       "      <td>283.810</td>\n",
       "      <td>5167</td>\n",
       "      <td>140.35</td>\n",
       "    </tr>\n",
       "    <tr>\n",
       "      <th>20</th>\n",
       "      <td>23</td>\n",
       "      <td>C</td>\n",
       "      <td>Creuse</td>\n",
       "      <td>37014</td>\n",
       "      <td>20235</td>\n",
       "      <td>23</td>\n",
       "      <td>10997</td>\n",
       "      <td>14363</td>\n",
       "      <td>77823</td>\n",
       "      <td>1:Sm</td>\n",
       "      <td>...</td>\n",
       "      <td>75</td>\n",
       "      <td>24</td>\n",
       "      <td>75</td>\n",
       "      <td>85</td>\n",
       "      <td>4</td>\n",
       "      <td>71</td>\n",
       "      <td>12</td>\n",
       "      <td>180.846</td>\n",
       "      <td>5565</td>\n",
       "      <td>265.38</td>\n",
       "    </tr>\n",
       "    <tr>\n",
       "      <th>17</th>\n",
       "      <td>19</td>\n",
       "      <td>C</td>\n",
       "      <td>Correze</td>\n",
       "      <td>15262</td>\n",
       "      <td>12949</td>\n",
       "      <td>12</td>\n",
       "      <td>14993</td>\n",
       "      <td>19330</td>\n",
       "      <td>47480</td>\n",
       "      <td>2:Med</td>\n",
       "      <td>...</td>\n",
       "      <td>86</td>\n",
       "      <td>16</td>\n",
       "      <td>82</td>\n",
       "      <td>84</td>\n",
       "      <td>2</td>\n",
       "      <td>86</td>\n",
       "      <td>3</td>\n",
       "      <td>227.899</td>\n",
       "      <td>5857</td>\n",
       "      <td>294.83</td>\n",
       "    </tr>\n",
       "    <tr>\n",
       "      <th>85</th>\n",
       "      <td>200</td>\n",
       "      <td>NaN</td>\n",
       "      <td>Corse</td>\n",
       "      <td>2199</td>\n",
       "      <td>4589</td>\n",
       "      <td>49</td>\n",
       "      <td>37015</td>\n",
       "      <td>24743</td>\n",
       "      <td>37016</td>\n",
       "      <td>2:Med</td>\n",
       "      <td>...</td>\n",
       "      <td>81</td>\n",
       "      <td>2</td>\n",
       "      <td>84</td>\n",
       "      <td>83</td>\n",
       "      <td>9</td>\n",
       "      <td>25</td>\n",
       "      <td>1</td>\n",
       "      <td>539.213</td>\n",
       "      <td>8680</td>\n",
       "      <td>195.41</td>\n",
       "    </tr>\n",
       "    <tr>\n",
       "      <th>13</th>\n",
       "      <td>15</td>\n",
       "      <td>C</td>\n",
       "      <td>Cantal</td>\n",
       "      <td>18070</td>\n",
       "      <td>11645</td>\n",
       "      <td>31</td>\n",
       "      <td>4093</td>\n",
       "      <td>15335</td>\n",
       "      <td>87338</td>\n",
       "      <td>2:Med</td>\n",
       "      <td>...</td>\n",
       "      <td>79</td>\n",
       "      <td>83</td>\n",
       "      <td>66</td>\n",
       "      <td>82</td>\n",
       "      <td>1</td>\n",
       "      <td>51</td>\n",
       "      <td>20</td>\n",
       "      <td>245.849</td>\n",
       "      <td>5726</td>\n",
       "      <td>258.59</td>\n",
       "    </tr>\n",
       "  </tbody>\n",
       "</table>\n",
       "<p>5 rows × 23 columns</p>\n",
       "</div>"
      ],
      "text/plain": [
       "    dept Region Department  Crime_pers  Crime_prop  Literacy  Donations  \\\n",
       "45    48      S     Lozere        7710        5990        27       2040   \n",
       "20    23      C     Creuse       37014       20235        23      10997   \n",
       "17    19      C    Correze       15262       12949        12      14993   \n",
       "85   200    NaN      Corse        2199        4589        49      37015   \n",
       "13    15      C     Cantal       18070       11645        31       4093   \n",
       "\n",
       "    Infants  Suicides MainCity  ...  Crime_parents  Infanticide  \\\n",
       "45    25157     11092     1:Sm  ...             72           45   \n",
       "20    14363     77823     1:Sm  ...             75           24   \n",
       "17    19330     47480    2:Med  ...             86           16   \n",
       "85    24743     37016    2:Med  ...             81            2   \n",
       "13    15335     87338    2:Med  ...             79           83   \n",
       "\n",
       "    Donation_clergy  Lottery  Desertion  Instruction  Prostitutes  Distance  \\\n",
       "45               42       86          5           60            0   283.810   \n",
       "20               75       85          4           71           12   180.846   \n",
       "17               82       84          2           86            3   227.899   \n",
       "85               84       83          9           25            1   539.213   \n",
       "13               66       82          1           51           20   245.849   \n",
       "\n",
       "    Area  Pop1831  \n",
       "45  5167   140.35  \n",
       "20  5565   265.38  \n",
       "17  5857   294.83  \n",
       "85  8680   195.41  \n",
       "13  5726   258.59  \n",
       "\n",
       "[5 rows x 23 columns]"
      ]
     },
     "execution_count": 13,
     "metadata": {},
     "output_type": "execute_result"
    }
   ],
   "source": [
    "df.sort_values(by='Lottery', ascending=False).head()"
   ]
  },
  {
   "cell_type": "code",
   "execution_count": 14,
   "metadata": {},
   "outputs": [
    {
     "data": {
      "text/html": [
       "<div>\n",
       "<style scoped>\n",
       "    .dataframe tbody tr th:only-of-type {\n",
       "        vertical-align: middle;\n",
       "    }\n",
       "\n",
       "    .dataframe tbody tr th {\n",
       "        vertical-align: top;\n",
       "    }\n",
       "\n",
       "    .dataframe thead th {\n",
       "        text-align: right;\n",
       "    }\n",
       "</style>\n",
       "<table border=\"1\" class=\"dataframe\">\n",
       "  <thead>\n",
       "    <tr style=\"text-align: right;\">\n",
       "      <th></th>\n",
       "      <th>dept</th>\n",
       "      <th>Region</th>\n",
       "      <th>Department</th>\n",
       "      <th>Crime_pers</th>\n",
       "      <th>Crime_prop</th>\n",
       "      <th>Literacy</th>\n",
       "      <th>Donations</th>\n",
       "      <th>Infants</th>\n",
       "      <th>Suicides</th>\n",
       "      <th>MainCity</th>\n",
       "      <th>...</th>\n",
       "      <th>Crime_parents</th>\n",
       "      <th>Infanticide</th>\n",
       "      <th>Donation_clergy</th>\n",
       "      <th>Lottery</th>\n",
       "      <th>Desertion</th>\n",
       "      <th>Instruction</th>\n",
       "      <th>Prostitutes</th>\n",
       "      <th>Distance</th>\n",
       "      <th>Area</th>\n",
       "      <th>Pop1831</th>\n",
       "    </tr>\n",
       "  </thead>\n",
       "  <tbody>\n",
       "    <tr>\n",
       "      <th>70</th>\n",
       "      <td>75</td>\n",
       "      <td>N</td>\n",
       "      <td>Seine</td>\n",
       "      <td>13945</td>\n",
       "      <td>1368</td>\n",
       "      <td>71</td>\n",
       "      <td>4204</td>\n",
       "      <td>2660</td>\n",
       "      <td>3632</td>\n",
       "      <td>3:Lg</td>\n",
       "      <td>...</td>\n",
       "      <td>60</td>\n",
       "      <td>67</td>\n",
       "      <td>53</td>\n",
       "      <td>1</td>\n",
       "      <td>33</td>\n",
       "      <td>6</td>\n",
       "      <td>4744</td>\n",
       "      <td>0.000</td>\n",
       "      <td>762</td>\n",
       "      <td>935.11</td>\n",
       "    </tr>\n",
       "    <tr>\n",
       "      <th>66</th>\n",
       "      <td>69</td>\n",
       "      <td>E</td>\n",
       "      <td>Rhone</td>\n",
       "      <td>18793</td>\n",
       "      <td>4504</td>\n",
       "      <td>45</td>\n",
       "      <td>1983</td>\n",
       "      <td>3910</td>\n",
       "      <td>17003</td>\n",
       "      <td>3:Lg</td>\n",
       "      <td>...</td>\n",
       "      <td>37</td>\n",
       "      <td>33</td>\n",
       "      <td>21</td>\n",
       "      <td>2</td>\n",
       "      <td>14</td>\n",
       "      <td>31</td>\n",
       "      <td>104</td>\n",
       "      <td>213.032</td>\n",
       "      <td>3249</td>\n",
       "      <td>434.43</td>\n",
       "    </tr>\n",
       "    <tr>\n",
       "      <th>11</th>\n",
       "      <td>13</td>\n",
       "      <td>S</td>\n",
       "      <td>Bouches-du-Rhone</td>\n",
       "      <td>13409</td>\n",
       "      <td>5291</td>\n",
       "      <td>38</td>\n",
       "      <td>2314</td>\n",
       "      <td>9325</td>\n",
       "      <td>8107</td>\n",
       "      <td>3:Lg</td>\n",
       "      <td>...</td>\n",
       "      <td>45</td>\n",
       "      <td>74</td>\n",
       "      <td>55</td>\n",
       "      <td>3</td>\n",
       "      <td>23</td>\n",
       "      <td>43</td>\n",
       "      <td>25</td>\n",
       "      <td>362.568</td>\n",
       "      <td>5087</td>\n",
       "      <td>359.47</td>\n",
       "    </tr>\n",
       "    <tr>\n",
       "      <th>30</th>\n",
       "      <td>33</td>\n",
       "      <td>W</td>\n",
       "      <td>Gironde</td>\n",
       "      <td>24096</td>\n",
       "      <td>7423</td>\n",
       "      <td>40</td>\n",
       "      <td>5076</td>\n",
       "      <td>10676</td>\n",
       "      <td>19220</td>\n",
       "      <td>3:Lg</td>\n",
       "      <td>...</td>\n",
       "      <td>27</td>\n",
       "      <td>80</td>\n",
       "      <td>48</td>\n",
       "      <td>4</td>\n",
       "      <td>13</td>\n",
       "      <td>41</td>\n",
       "      <td>39</td>\n",
       "      <td>291.624</td>\n",
       "      <td>10000</td>\n",
       "      <td>554.23</td>\n",
       "    </tr>\n",
       "    <tr>\n",
       "      <th>64</th>\n",
       "      <td>67</td>\n",
       "      <td>E</td>\n",
       "      <td>Bas-Rhin</td>\n",
       "      <td>12309</td>\n",
       "      <td>4920</td>\n",
       "      <td>62</td>\n",
       "      <td>14472</td>\n",
       "      <td>14356</td>\n",
       "      <td>18623</td>\n",
       "      <td>3:Lg</td>\n",
       "      <td>...</td>\n",
       "      <td>23</td>\n",
       "      <td>48</td>\n",
       "      <td>51</td>\n",
       "      <td>5</td>\n",
       "      <td>53</td>\n",
       "      <td>12</td>\n",
       "      <td>101</td>\n",
       "      <td>217.752</td>\n",
       "      <td>4755</td>\n",
       "      <td>540.21</td>\n",
       "    </tr>\n",
       "  </tbody>\n",
       "</table>\n",
       "<p>5 rows × 23 columns</p>\n",
       "</div>"
      ],
      "text/plain": [
       "    dept Region        Department  Crime_pers  Crime_prop  Literacy  \\\n",
       "70    75      N             Seine       13945        1368        71   \n",
       "66    69      E             Rhone       18793        4504        45   \n",
       "11    13      S  Bouches-du-Rhone       13409        5291        38   \n",
       "30    33      W           Gironde       24096        7423        40   \n",
       "64    67      E          Bas-Rhin       12309        4920        62   \n",
       "\n",
       "    Donations  Infants  Suicides MainCity  ...  Crime_parents  Infanticide  \\\n",
       "70       4204     2660      3632     3:Lg  ...             60           67   \n",
       "66       1983     3910     17003     3:Lg  ...             37           33   \n",
       "11       2314     9325      8107     3:Lg  ...             45           74   \n",
       "30       5076    10676     19220     3:Lg  ...             27           80   \n",
       "64      14472    14356     18623     3:Lg  ...             23           48   \n",
       "\n",
       "    Donation_clergy  Lottery  Desertion  Instruction  Prostitutes  Distance  \\\n",
       "70               53        1         33            6         4744     0.000   \n",
       "66               21        2         14           31          104   213.032   \n",
       "11               55        3         23           43           25   362.568   \n",
       "30               48        4         13           41           39   291.624   \n",
       "64               51        5         53           12          101   217.752   \n",
       "\n",
       "     Area  Pop1831  \n",
       "70    762   935.11  \n",
       "66   3249   434.43  \n",
       "11   5087   359.47  \n",
       "30  10000   554.23  \n",
       "64   4755   540.21  \n",
       "\n",
       "[5 rows x 23 columns]"
      ]
     },
     "execution_count": 14,
     "metadata": {},
     "output_type": "execute_result"
    }
   ],
   "source": [
    "df.sort_values(by=['Lottery', 'Literacy'], ascending=[True, False]).head()"
   ]
  },
  {
   "cell_type": "markdown",
   "metadata": {},
   "source": [
    "### 3.5)- Correlation"
   ]
  },
  {
   "cell_type": "code",
   "execution_count": 15,
   "metadata": {},
   "outputs": [],
   "source": [
    "data_corrs = df.corr()"
   ]
  },
  {
   "cell_type": "code",
   "execution_count": 16,
   "metadata": {},
   "outputs": [
    {
     "data": {
      "image/png": "[encoded data removed]",
      "text/plain": [
       "<Figure size 720x576 with 2 Axes>"
      ]
     },
     "metadata": {},
     "output_type": "display_data"
    }
   ],
   "source": [
    "plt.figure(figsize = (10, 8))\n",
    "\n",
    "# Heatmap of correlations\n",
    "sns.heatmap(data_corrs, cmap = plt.cm.RdYlBu_r, vmin = -0.25, annot = True, vmax = 0.6)\n",
    "plt.title('Correlation Heatmap');"
   ]
  },
  {
   "cell_type": "markdown",
   "metadata": {},
   "source": [
    "### 3.6)- Histogram"
   ]
  },
  {
   "cell_type": "code",
   "execution_count": 17,
   "metadata": {},
   "outputs": [
    {
     "data": {
      "image/png": "[encoded data removed]",
      "text/plain": [
       "<Figure size 1440x1080 with 20 Axes>"
      ]
     },
     "metadata": {},
     "output_type": "display_data"
    }
   ],
   "source": [
    "df.hist(bins=50, figsize=(20,15))\n",
    "plt.show()"
   ]
  },
  {
   "cell_type": "markdown",
   "metadata": {},
   "source": [
    "### 3.6)- Missing values"
   ]
  },
  {
   "cell_type": "code",
   "execution_count": 18,
   "metadata": {},
   "outputs": [],
   "source": [
    "def find_missing_values(df, columns):\n",
    "    \"\"\"\n",
    "    Finds number of rows where certain columns are missing values.\n",
    "    ::param_df:: = target dataframe\n",
    "    ::param_columns:: = list of columns\n",
    "    \"\"\"\n",
    "    missing_vals = {}\n",
    "    print(\"Number of missing or NaN values for each column:\")\n",
    "    df_length = len(df)\n",
    "    for column in columns:\n",
    "        total_column_values = df[column].value_counts().sum()\n",
    "        missing_vals[column] = df_length-total_column_values\n",
    "        #missing_vals.append(str(column)+ \" column has {} missing or NaN values.\".format())\n",
    "    return missing_vals"
   ]
  },
  {
   "cell_type": "code",
   "execution_count": 19,
   "metadata": {},
   "outputs": [
    {
     "name": "stdout",
     "output_type": "stream",
     "text": [
      "Number of missing or NaN values for each column:\n"
     ]
    },
    {
     "data": {
      "text/plain": [
       "{'dept': 0,\n",
       " 'Region': 1,\n",
       " 'Department': 0,\n",
       " 'Crime_pers': 0,\n",
       " 'Crime_prop': 0,\n",
       " 'Literacy': 0,\n",
       " 'Donations': 0,\n",
       " 'Infants': 0,\n",
       " 'Suicides': 0,\n",
       " 'MainCity': 0,\n",
       " 'Wealth': 0,\n",
       " 'Commerce': 0,\n",
       " 'Clergy': 0,\n",
       " 'Crime_parents': 0,\n",
       " 'Infanticide': 0,\n",
       " 'Donation_clergy': 0,\n",
       " 'Lottery': 0,\n",
       " 'Desertion': 0,\n",
       " 'Instruction': 0,\n",
       " 'Prostitutes': 0,\n",
       " 'Distance': 0,\n",
       " 'Area': 0,\n",
       " 'Pop1831': 0}"
      ]
     },
     "execution_count": 19,
     "metadata": {},
     "output_type": "execute_result"
    }
   ],
   "source": [
    "missing_values = find_missing_values(df, columns=df.columns)\n",
    "missing_values"
   ]
  },
  {
   "cell_type": "code",
   "execution_count": 20,
   "metadata": {},
   "outputs": [
    {
     "data": {
      "text/plain": [
       "<matplotlib.axes._subplots.AxesSubplot at 0x20ad6f6c588>"
      ]
     },
     "execution_count": 20,
     "metadata": {},
     "output_type": "execute_result"
    },
    {
     "data": {
      "image/png": "[encoded data removed]",
      "text/plain": [
       "<Figure size 2160x720 with 2 Axes>"
      ]
     },
     "metadata": {},
     "output_type": "display_data"
    }
   ],
   "source": [
    "import missingno\n",
    "missingno.matrix(df, figsize = (30,10))"
   ]
  },
  {
   "cell_type": "code",
   "execution_count": 21,
   "metadata": {
    "scrolled": true
   },
   "outputs": [
    {
     "data": {
      "text/plain": [
       "dept                    2\n",
       "Region                  N\n",
       "Department          Aisne\n",
       "Crime_pers          26226\n",
       "Crime_prop           5521\n",
       "Literacy               51\n",
       "Donations            8901\n",
       "Infants             14572\n",
       "Suicides            12831\n",
       "MainCity            2:Med\n",
       "Wealth                 22\n",
       "Commerce               10\n",
       "Clergy                 82\n",
       "Crime_parents           4\n",
       "Infanticide            82\n",
       "Donation_clergy        36\n",
       "Lottery                38\n",
       "Desertion              82\n",
       "Instruction            24\n",
       "Prostitutes           327\n",
       "Distance           65.945\n",
       "Area                 7369\n",
       "Pop1831               513\n",
       "Name: 1, dtype: object"
      ]
     },
     "execution_count": 21,
     "metadata": {},
     "output_type": "execute_result"
    }
   ],
   "source": [
    "df.loc[df.Region.isnull().sum()]"
   ]
  },
  {
   "cell_type": "markdown",
   "metadata": {},
   "source": [
    "It is only one so, we may simply drop it. Also it is categorical variable so, using mean or zero values won't work"
   ]
  },
  {
   "cell_type": "code",
   "execution_count": 22,
   "metadata": {},
   "outputs": [],
   "source": [
    "df=df.dropna(subset=['Region'],how='any')"
   ]
  },
  {
   "cell_type": "code",
   "execution_count": 23,
   "metadata": {},
   "outputs": [
    {
     "data": {
      "text/plain": [
       "dept               0\n",
       "Region             0\n",
       "Department         0\n",
       "Crime_pers         0\n",
       "Crime_prop         0\n",
       "Literacy           0\n",
       "Donations          0\n",
       "Infants            0\n",
       "Suicides           0\n",
       "MainCity           0\n",
       "Wealth             0\n",
       "Commerce           0\n",
       "Clergy             0\n",
       "Crime_parents      0\n",
       "Infanticide        0\n",
       "Donation_clergy    0\n",
       "Lottery            0\n",
       "Desertion          0\n",
       "Instruction        0\n",
       "Prostitutes        0\n",
       "Distance           0\n",
       "Area               0\n",
       "Pop1831            0\n",
       "dtype: int64"
      ]
     },
     "execution_count": 23,
     "metadata": {},
     "output_type": "execute_result"
    }
   ],
   "source": [
    "df.isnull().sum()"
   ]
  },
  {
   "cell_type": "markdown",
   "metadata": {},
   "source": [
    "### 3.7)- Duplicate values"
   ]
  },
  {
   "cell_type": "code",
   "execution_count": 24,
   "metadata": {},
   "outputs": [
    {
     "data": {
      "text/plain": [
       "0     False\n",
       "1     False\n",
       "2     False\n",
       "3     False\n",
       "4     False\n",
       "5     False\n",
       "6     False\n",
       "7     False\n",
       "8     False\n",
       "9     False\n",
       "10    False\n",
       "11    False\n",
       "12    False\n",
       "13    False\n",
       "14    False\n",
       "15    False\n",
       "16    False\n",
       "17    False\n",
       "18    False\n",
       "19    False\n",
       "20    False\n",
       "21    False\n",
       "22    False\n",
       "23    False\n",
       "24    False\n",
       "25    False\n",
       "26    False\n",
       "27    False\n",
       "28    False\n",
       "29    False\n",
       "      ...  \n",
       "55    False\n",
       "56    False\n",
       "57    False\n",
       "58    False\n",
       "59    False\n",
       "60    False\n",
       "61    False\n",
       "62    False\n",
       "63    False\n",
       "64    False\n",
       "65    False\n",
       "66    False\n",
       "67    False\n",
       "68    False\n",
       "69    False\n",
       "70    False\n",
       "71    False\n",
       "72    False\n",
       "73    False\n",
       "74    False\n",
       "75    False\n",
       "76    False\n",
       "77    False\n",
       "78    False\n",
       "79    False\n",
       "80    False\n",
       "81    False\n",
       "82    False\n",
       "83    False\n",
       "84    False\n",
       "Length: 85, dtype: bool"
      ]
     },
     "execution_count": 24,
     "metadata": {},
     "output_type": "execute_result"
    }
   ],
   "source": [
    "df.duplicated()"
   ]
  },
  {
   "cell_type": "code",
   "execution_count": 25,
   "metadata": {},
   "outputs": [
    {
     "data": {
      "text/plain": [
       "0"
      ]
     },
     "execution_count": 25,
     "metadata": {},
     "output_type": "execute_result"
    }
   ],
   "source": [
    "df.duplicated().sum()"
   ]
  },
  {
   "cell_type": "markdown",
   "metadata": {},
   "source": [
    "### 3.8)-Finding Outliers"
   ]
  },
  {
   "cell_type": "code",
   "execution_count": 26,
   "metadata": {},
   "outputs": [
    {
     "data": {
      "text/html": [
       "<div>\n",
       "<style scoped>\n",
       "    .dataframe tbody tr th:only-of-type {\n",
       "        vertical-align: middle;\n",
       "    }\n",
       "\n",
       "    .dataframe tbody tr th {\n",
       "        vertical-align: top;\n",
       "    }\n",
       "\n",
       "    .dataframe thead th {\n",
       "        text-align: right;\n",
       "    }\n",
       "</style>\n",
       "<table border=\"1\" class=\"dataframe\">\n",
       "  <thead>\n",
       "    <tr style=\"text-align: right;\">\n",
       "      <th></th>\n",
       "      <th>dept</th>\n",
       "      <th>Crime_pers</th>\n",
       "      <th>Crime_prop</th>\n",
       "      <th>Literacy</th>\n",
       "      <th>Donations</th>\n",
       "      <th>Infants</th>\n",
       "      <th>Suicides</th>\n",
       "      <th>Wealth</th>\n",
       "      <th>Commerce</th>\n",
       "      <th>Clergy</th>\n",
       "      <th>Crime_parents</th>\n",
       "      <th>Infanticide</th>\n",
       "      <th>Donation_clergy</th>\n",
       "      <th>Lottery</th>\n",
       "      <th>Desertion</th>\n",
       "      <th>Instruction</th>\n",
       "      <th>Prostitutes</th>\n",
       "      <th>Distance</th>\n",
       "      <th>Area</th>\n",
       "      <th>Pop1831</th>\n",
       "    </tr>\n",
       "  </thead>\n",
       "  <tbody>\n",
       "    <tr>\n",
       "      <th>count</th>\n",
       "      <td>85.000000</td>\n",
       "      <td>85.000000</td>\n",
       "      <td>85.000000</td>\n",
       "      <td>85.000000</td>\n",
       "      <td>85.000000</td>\n",
       "      <td>85.000000</td>\n",
       "      <td>85.00000</td>\n",
       "      <td>85.000000</td>\n",
       "      <td>85.000000</td>\n",
       "      <td>85.000000</td>\n",
       "      <td>85.000000</td>\n",
       "      <td>85.000000</td>\n",
       "      <td>85.000000</td>\n",
       "      <td>85.000000</td>\n",
       "      <td>85.000000</td>\n",
       "      <td>85.000000</td>\n",
       "      <td>85.000000</td>\n",
       "      <td>85.000000</td>\n",
       "      <td>85.000000</td>\n",
       "      <td>85.000000</td>\n",
       "    </tr>\n",
       "    <tr>\n",
       "      <th>mean</th>\n",
       "      <td>45.082353</td>\n",
       "      <td>19960.941176</td>\n",
       "      <td>7881.341176</td>\n",
       "      <td>39.141176</td>\n",
       "      <td>6723.317647</td>\n",
       "      <td>18982.929412</td>\n",
       "      <td>36516.80000</td>\n",
       "      <td>43.576471</td>\n",
       "      <td>42.329412</td>\n",
       "      <td>43.929412</td>\n",
       "      <td>43.058824</td>\n",
       "      <td>44.000000</td>\n",
       "      <td>43.023529</td>\n",
       "      <td>43.035294</td>\n",
       "      <td>43.905882</td>\n",
       "      <td>43.341176</td>\n",
       "      <td>143.529412</td>\n",
       "      <td>204.055965</td>\n",
       "      <td>6117.188235</td>\n",
       "      <td>380.784235</td>\n",
       "    </tr>\n",
       "    <tr>\n",
       "      <th>std</th>\n",
       "      <td>25.580969</td>\n",
       "      <td>7299.241801</td>\n",
       "      <td>3048.615285</td>\n",
       "      <td>17.434335</td>\n",
       "      <td>4863.244310</td>\n",
       "      <td>8850.552556</td>\n",
       "      <td>31498.31879</td>\n",
       "      <td>25.108041</td>\n",
       "      <td>24.787376</td>\n",
       "      <td>24.713014</td>\n",
       "      <td>24.778713</td>\n",
       "      <td>24.679373</td>\n",
       "      <td>24.721774</td>\n",
       "      <td>24.741255</td>\n",
       "      <td>24.831155</td>\n",
       "      <td>24.867531</td>\n",
       "      <td>523.833047</td>\n",
       "      <td>103.786341</td>\n",
       "      <td>1378.799189</td>\n",
       "      <td>148.303198</td>\n",
       "    </tr>\n",
       "    <tr>\n",
       "      <th>min</th>\n",
       "      <td>1.000000</td>\n",
       "      <td>5883.000000</td>\n",
       "      <td>1368.000000</td>\n",
       "      <td>12.000000</td>\n",
       "      <td>1246.000000</td>\n",
       "      <td>2660.000000</td>\n",
       "      <td>3460.00000</td>\n",
       "      <td>1.000000</td>\n",
       "      <td>1.000000</td>\n",
       "      <td>2.000000</td>\n",
       "      <td>1.000000</td>\n",
       "      <td>1.000000</td>\n",
       "      <td>1.000000</td>\n",
       "      <td>1.000000</td>\n",
       "      <td>1.000000</td>\n",
       "      <td>1.000000</td>\n",
       "      <td>0.000000</td>\n",
       "      <td>0.000000</td>\n",
       "      <td>762.000000</td>\n",
       "      <td>129.100000</td>\n",
       "    </tr>\n",
       "    <tr>\n",
       "      <th>25%</th>\n",
       "      <td>24.000000</td>\n",
       "      <td>14790.000000</td>\n",
       "      <td>5990.000000</td>\n",
       "      <td>25.000000</td>\n",
       "      <td>3446.000000</td>\n",
       "      <td>14281.000000</td>\n",
       "      <td>15400.00000</td>\n",
       "      <td>22.000000</td>\n",
       "      <td>21.000000</td>\n",
       "      <td>23.000000</td>\n",
       "      <td>22.000000</td>\n",
       "      <td>23.000000</td>\n",
       "      <td>22.000000</td>\n",
       "      <td>22.000000</td>\n",
       "      <td>23.000000</td>\n",
       "      <td>23.000000</td>\n",
       "      <td>6.000000</td>\n",
       "      <td>119.718000</td>\n",
       "      <td>5361.000000</td>\n",
       "      <td>283.830000</td>\n",
       "    </tr>\n",
       "    <tr>\n",
       "      <th>50%</th>\n",
       "      <td>45.000000</td>\n",
       "      <td>18785.000000</td>\n",
       "      <td>7624.000000</td>\n",
       "      <td>38.000000</td>\n",
       "      <td>4964.000000</td>\n",
       "      <td>17044.000000</td>\n",
       "      <td>26198.00000</td>\n",
       "      <td>44.000000</td>\n",
       "      <td>42.000000</td>\n",
       "      <td>44.000000</td>\n",
       "      <td>43.000000</td>\n",
       "      <td>44.000000</td>\n",
       "      <td>43.000000</td>\n",
       "      <td>43.000000</td>\n",
       "      <td>44.000000</td>\n",
       "      <td>42.000000</td>\n",
       "      <td>34.000000</td>\n",
       "      <td>199.167000</td>\n",
       "      <td>6040.000000</td>\n",
       "      <td>346.300000</td>\n",
       "    </tr>\n",
       "    <tr>\n",
       "      <th>75%</th>\n",
       "      <td>66.000000</td>\n",
       "      <td>26221.000000</td>\n",
       "      <td>9190.000000</td>\n",
       "      <td>52.000000</td>\n",
       "      <td>9242.000000</td>\n",
       "      <td>21981.000000</td>\n",
       "      <td>45180.00000</td>\n",
       "      <td>65.000000</td>\n",
       "      <td>63.000000</td>\n",
       "      <td>65.000000</td>\n",
       "      <td>64.000000</td>\n",
       "      <td>65.000000</td>\n",
       "      <td>64.000000</td>\n",
       "      <td>64.000000</td>\n",
       "      <td>65.000000</td>\n",
       "      <td>65.000000</td>\n",
       "      <td>117.000000</td>\n",
       "      <td>283.810000</td>\n",
       "      <td>6815.000000</td>\n",
       "      <td>445.250000</td>\n",
       "    </tr>\n",
       "    <tr>\n",
       "      <th>max</th>\n",
       "      <td>89.000000</td>\n",
       "      <td>37014.000000</td>\n",
       "      <td>20235.000000</td>\n",
       "      <td>74.000000</td>\n",
       "      <td>27830.000000</td>\n",
       "      <td>62486.000000</td>\n",
       "      <td>163241.00000</td>\n",
       "      <td>86.000000</td>\n",
       "      <td>86.000000</td>\n",
       "      <td>86.000000</td>\n",
       "      <td>86.000000</td>\n",
       "      <td>86.000000</td>\n",
       "      <td>86.000000</td>\n",
       "      <td>86.000000</td>\n",
       "      <td>86.000000</td>\n",
       "      <td>86.000000</td>\n",
       "      <td>4744.000000</td>\n",
       "      <td>403.445000</td>\n",
       "      <td>10000.000000</td>\n",
       "      <td>989.940000</td>\n",
       "    </tr>\n",
       "  </tbody>\n",
       "</table>\n",
       "</div>"
      ],
      "text/plain": [
       "            dept    Crime_pers    Crime_prop   Literacy     Donations  \\\n",
       "count  85.000000     85.000000     85.000000  85.000000     85.000000   \n",
       "mean   45.082353  19960.941176   7881.341176  39.141176   6723.317647   \n",
       "std    25.580969   7299.241801   3048.615285  17.434335   4863.244310   \n",
       "min     1.000000   5883.000000   1368.000000  12.000000   1246.000000   \n",
       "25%    24.000000  14790.000000   5990.000000  25.000000   3446.000000   \n",
       "50%    45.000000  18785.000000   7624.000000  38.000000   4964.000000   \n",
       "75%    66.000000  26221.000000   9190.000000  52.000000   9242.000000   \n",
       "max    89.000000  37014.000000  20235.000000  74.000000  27830.000000   \n",
       "\n",
       "            Infants      Suicides     Wealth   Commerce     Clergy  \\\n",
       "count     85.000000      85.00000  85.000000  85.000000  85.000000   \n",
       "mean   18982.929412   36516.80000  43.576471  42.329412  43.929412   \n",
       "std     8850.552556   31498.31879  25.108041  24.787376  24.713014   \n",
       "min     2660.000000    3460.00000   1.000000   1.000000   2.000000   \n",
       "25%    14281.000000   15400.00000  22.000000  21.000000  23.000000   \n",
       "50%    17044.000000   26198.00000  44.000000  42.000000  44.000000   \n",
       "75%    21981.000000   45180.00000  65.000000  63.000000  65.000000   \n",
       "max    62486.000000  163241.00000  86.000000  86.000000  86.000000   \n",
       "\n",
       "       Crime_parents  Infanticide  Donation_clergy    Lottery  Desertion  \\\n",
       "count      85.000000    85.000000        85.000000  85.000000  85.000000   \n",
       "mean       43.058824    44.000000        43.023529  43.035294  43.905882   \n",
       "std        24.778713    24.679373        24.721774  24.741255  24.831155   \n",
       "min         1.000000     1.000000         1.000000   1.000000   1.000000   \n",
       "25%        22.000000    23.000000        22.000000  22.000000  23.000000   \n",
       "50%        43.000000    44.000000        43.000000  43.000000  44.000000   \n",
       "75%        64.000000    65.000000        64.000000  64.000000  65.000000   \n",
       "max        86.000000    86.000000        86.000000  86.000000  86.000000   \n",
       "\n",
       "       Instruction  Prostitutes    Distance          Area     Pop1831  \n",
       "count    85.000000    85.000000   85.000000     85.000000   85.000000  \n",
       "mean     43.341176   143.529412  204.055965   6117.188235  380.784235  \n",
       "std      24.867531   523.833047  103.786341   1378.799189  148.303198  \n",
       "min       1.000000     0.000000    0.000000    762.000000  129.100000  \n",
       "25%      23.000000     6.000000  119.718000   5361.000000  283.830000  \n",
       "50%      42.000000    34.000000  199.167000   6040.000000  346.300000  \n",
       "75%      65.000000   117.000000  283.810000   6815.000000  445.250000  \n",
       "max      86.000000  4744.000000  403.445000  10000.000000  989.940000  "
      ]
     },
     "execution_count": 26,
     "metadata": {},
     "output_type": "execute_result"
    }
   ],
   "source": [
    "df.describe()"
   ]
  },
  {
   "cell_type": "code",
   "execution_count": 27,
   "metadata": {},
   "outputs": [
    {
     "name": "stdout",
     "output_type": "stream",
     "text": [
      "Percentage of low: 0.00%\n",
      "Percentage of high: 0.00%\n",
      "Low value: -31.19\n",
      "High value: 117.26\n"
     ]
    }
   ],
   "source": [
    "def _zoom_3sigma(col, dataset, dataset_apl):\n",
    "    '''\n",
    "    col: Data column name\n",
    "    dataset: The original data table is used to calculate about 3 sigma\n",
    "    dataset_apl: New data table applies about 3 sigma taken from the dataset..\n",
    "    '''\n",
    "    xs = dataset[col]\n",
    "    mu = xs.mean()\n",
    "    sigma = xs.std()\n",
    "    low =  mu - 3*sigma\n",
    "#     low =  0 if low < 0 else low\n",
    "    high = mu + 3*sigma\n",
    "    \n",
    "    def _value(x):\n",
    "        if x < low: return low\n",
    "        elif x > high: return high\n",
    "        else: return x\n",
    "    xapl = dataset_apl[col]    \n",
    "    xnew = list(map(lambda x: _value(x), xapl))\n",
    "    n_low = len([i for i in xnew if i == low])\n",
    "    n_high = len([i for i in xnew if i == high])\n",
    "    n = len(xapl)\n",
    "    print('Percentage of low: {:.2f}{}'.format(100*n_low/n, '%'))\n",
    "    print('Percentage of high: {:.2f}{}'.format(100*n_high/n, '%'))\n",
    "    print('Low value: {:.2f}'.format(low))\n",
    "    print('High value: {:.2f}'.format(high))\n",
    "    return xnew\n",
    "\n",
    "# Check with FLAG_MOBIL variable\n",
    "x = _zoom_3sigma('Lottery', df, df)"
   ]
  },
  {
   "cell_type": "markdown",
   "metadata": {},
   "source": [
    "# 4)- Working with dependant variable"
   ]
  },
  {
   "cell_type": "markdown",
   "metadata": {},
   "source": [
    "### 4.1)- Histogram"
   ]
  },
  {
   "cell_type": "code",
   "execution_count": 28,
   "metadata": {
    "scrolled": true
   },
   "outputs": [
    {
     "data": {
      "text/plain": [
       "<matplotlib.axes._subplots.AxesSubplot at 0x20ad6a6aac8>"
      ]
     },
     "execution_count": 28,
     "metadata": {},
     "output_type": "execute_result"
    },
    {
     "data": {
      "image/png": "[encoded data removed]",
      "text/plain": [
       "<Figure size 1080x720 with 1 Axes>"
      ]
     },
     "metadata": {},
     "output_type": "display_data"
    }
   ],
   "source": [
    "df.Lottery.hist(bins=50,figsize=(15,10))"
   ]
  },
  {
   "cell_type": "markdown",
   "metadata": {},
   "source": [
    "### 4.2)- dist plot"
   ]
  },
  {
   "cell_type": "code",
   "execution_count": 29,
   "metadata": {},
   "outputs": [
    {
     "name": "stdout",
     "output_type": "stream",
     "text": [
      "\n",
      " mu = 43.04 and sigma = 24.60\n",
      "\n"
     ]
    },
    {
     "data": {
      "text/plain": [
       "Text(0.5, 1.0, 'Lottery value distribution')"
      ]
     },
     "execution_count": 29,
     "metadata": {},
     "output_type": "execute_result"
    },
    {
     "data": {
      "image/png": "[encoded data removed]",
      "text/plain": [
       "<Figure size 432x288 with 1 Axes>"
      ]
     },
     "metadata": {},
     "output_type": "display_data"
    }
   ],
   "source": [
    "from scipy.stats import norm, skew\n",
    "sns.distplot(df['Lottery'] , fit=norm);\n",
    "\n",
    "# Get the fitted parameters used by the function\n",
    "(mu, sigma) = norm.fit(df['Lottery'])\n",
    "print( '\\n mu = {:.2f} and sigma = {:.2f}\\n'.format(mu, sigma))\n",
    "\n",
    "# Plotting the distribution\n",
    "plt.legend(['Normal dist. ($\\mu=$ {:.2f} and $\\sigma=$ {:.2f} )'.format(mu, sigma)],\n",
    "            loc='best')\n",
    "plt.ylabel('Frequency')\n",
    "plt.title('Lottery value distribution')"
   ]
  },
  {
   "cell_type": "markdown",
   "metadata": {},
   "source": [
    "### 4.3)-Density plot to check outliers"
   ]
  },
  {
   "cell_type": "code",
   "execution_count": 30,
   "metadata": {},
   "outputs": [
    {
     "data": {
      "text/plain": [
       "<matplotlib.axes._subplots.AxesSubplot at 0x20ad840e8d0>"
      ]
     },
     "execution_count": 30,
     "metadata": {},
     "output_type": "execute_result"
    },
    {
     "data": {
      "image/png": "[encoded data removed]",
      "text/plain": [
       "<Figure size 432x288 with 1 Axes>"
      ]
     },
     "metadata": {},
     "output_type": "display_data"
    }
   ],
   "source": [
    "df.Lottery.plot(kind='density')"
   ]
  },
  {
   "cell_type": "markdown",
   "metadata": {},
   "source": [
    "### 4.4)-Boxplot for outlier check"
   ]
  },
  {
   "cell_type": "code",
   "execution_count": 31,
   "metadata": {},
   "outputs": [
    {
     "data": {
      "image/png": "[encoded data removed]",
      "text/plain": [
       "<Figure size 432x288 with 1 Axes>"
      ]
     },
     "metadata": {},
     "output_type": "display_data"
    }
   ],
   "source": [
    "df.Lottery.plot(kind='box', subplots=True, layout=(1,1), sharex=False, sharey=False)\n",
    "plt.show()"
   ]
  },
  {
   "cell_type": "code",
   "execution_count": 32,
   "metadata": {},
   "outputs": [],
   "source": [
    "#correlations with the label feature and sort\n",
    "correlations = df.corr()['Lottery'].sort_values()"
   ]
  },
  {
   "cell_type": "code",
   "execution_count": 33,
   "metadata": {},
   "outputs": [
    {
     "name": "stdout",
     "output_type": "stream",
     "text": [
      "Most Positive Correlations:\n",
      " Commerce      0.432867\n",
      "Crime_prop    0.464390\n",
      "Wealth        0.493133\n",
      "Suicides      0.497224\n",
      "Lottery       1.000000\n",
      "Name: Lottery, dtype: float64\n"
     ]
    }
   ],
   "source": [
    "print('Most Positive Correlations:\\n', correlations.tail(5))"
   ]
  },
  {
   "cell_type": "code",
   "execution_count": 34,
   "metadata": {},
   "outputs": [
    {
     "name": "stdout",
     "output_type": "stream",
     "text": [
      "\n",
      "Most Negative Correlations:\n",
      " Pop1831       -0.456234\n",
      "Literacy      -0.381734\n",
      "Infanticide   -0.325656\n",
      "Desertion     -0.284440\n",
      "Prostitutes   -0.283694\n",
      "Name: Lottery, dtype: float64\n"
     ]
    }
   ],
   "source": [
    "print('\\nMost Negative Correlations:\\n', correlations.head(5))"
   ]
  },
  {
   "cell_type": "markdown",
   "metadata": {},
   "source": [
    "# 5)- Building OLS Modeling"
   ]
  },
  {
   "cell_type": "markdown",
   "metadata": {},
   "source": [
    "First for only two independent variable i.e Literacy and pop1831"
   ]
  },
  {
   "cell_type": "markdown",
   "metadata": {},
   "source": [
    "### 5.1)- Scatter plot between Lottery and Literacy"
   ]
  },
  {
   "cell_type": "code",
   "execution_count": 35,
   "metadata": {},
   "outputs": [
    {
     "data": {
      "text/plain": [
       "<matplotlib.collections.PathCollection at 0x20ad8c132e8>"
      ]
     },
     "execution_count": 35,
     "metadata": {},
     "output_type": "execute_result"
    },
    {
     "data": {
      "image/png": "[encoded data removed]",
      "text/plain": [
       "<Figure size 720x432 with 1 Axes>"
      ]
     },
     "metadata": {},
     "output_type": "display_data"
    }
   ],
   "source": [
    "plt.figure(figsize=(10,6))\n",
    "plt.scatter(y=df['Lottery'],x=df['Literacy'],alpha=0.3)"
   ]
  },
  {
   "cell_type": "markdown",
   "metadata": {},
   "source": [
    "### 5.2)- Scatter plot between Lottery and pop1831"
   ]
  },
  {
   "cell_type": "code",
   "execution_count": 36,
   "metadata": {},
   "outputs": [
    {
     "data": {
      "text/plain": [
       "<matplotlib.collections.PathCollection at 0x20ad8a2e198>"
      ]
     },
     "execution_count": 36,
     "metadata": {},
     "output_type": "execute_result"
    },
    {
     "data": {
      "image/png": "[encoded data removed]",
      "text/plain": [
       "<Figure size 720x432 with 1 Axes>"
      ]
     },
     "metadata": {},
     "output_type": "display_data"
    }
   ],
   "source": [
    "plt.figure(figsize=(10,6))\n",
    "plt.scatter(y=df['Lottery'],x=df['Pop1831'],alpha=0.3)"
   ]
  },
  {
   "cell_type": "markdown",
   "metadata": {},
   "source": [
    "Some outlier values are seen at the end"
   ]
  },
  {
   "cell_type": "markdown",
   "metadata": {},
   "source": [
    "### 5.3)-Pairplot"
   ]
  },
  {
   "cell_type": "code",
   "execution_count": 37,
   "metadata": {},
   "outputs": [
    {
     "data": {
      "text/plain": [
       "<seaborn.axisgrid.PairGrid at 0x20ad8c374e0>"
      ]
     },
     "execution_count": 37,
     "metadata": {},
     "output_type": "execute_result"
    },
    {
     "data": {
      "image/png": "[encoded data removed]",
      "text/plain": [
       "<Figure size 540x540 with 12 Axes>"
      ]
     },
     "metadata": {},
     "output_type": "display_data"
    }
   ],
   "source": [
    "#using seaborn now for pairplot\n",
    "sns.pairplot(df[['Lottery','Literacy','Pop1831']])"
   ]
  },
  {
   "cell_type": "markdown",
   "metadata": {},
   "source": [
    "**Right at the end of pop1831 , we can find few outlier patterns. We will minimize that by taking \"log\"**"
   ]
  },
  {
   "cell_type": "code",
   "execution_count": 38,
   "metadata": {},
   "outputs": [],
   "source": [
    "results = smf.ols('Lottery ~ Literacy + np.log(Pop1831)', data=df).fit()"
   ]
  },
  {
   "cell_type": "code",
   "execution_count": 39,
   "metadata": {},
   "outputs": [
    {
     "name": "stdout",
     "output_type": "stream",
     "text": [
      "                            OLS Regression Results                            \n",
      "==============================================================================\n",
      "Dep. Variable:                Lottery   R-squared:                       0.342\n",
      "Model:                            OLS   Adj. R-squared:                  0.326\n",
      "Method:                 Least Squares   F-statistic:                     21.30\n",
      "Date:                Sun, 25 Aug 2019   Prob (F-statistic):           3.54e-08\n",
      "Time:                        11:12:51   Log-Likelihood:                -375.04\n",
      "No. Observations:                  85   AIC:                             756.1\n",
      "Df Residuals:                      82   BIC:                             763.4\n",
      "Df Model:                           2                                         \n",
      "Covariance Type:            nonrobust                                         \n",
      "===================================================================================\n",
      "                      coef    std err          t      P>|t|      [0.025      0.975]\n",
      "-----------------------------------------------------------------------------------\n",
      "Intercept         238.3807     35.636      6.689      0.000     167.490     309.272\n",
      "Literacy           -0.5008      0.127     -3.931      0.000      -0.754      -0.247\n",
      "np.log(Pop1831)   -29.9132      6.050     -4.945      0.000     -41.948     -17.879\n",
      "==============================================================================\n",
      "Omnibus:                        3.233   Durbin-Watson:                   2.052\n",
      "Prob(Omnibus):                  0.199   Jarque-Bera (JB):                2.993\n",
      "Skew:                          -0.459   Prob(JB):                        0.224\n",
      "Kurtosis:                       2.940   Cond. No.                         708.\n",
      "==============================================================================\n",
      "\n",
      "Warnings:\n",
      "[1] Standard Errors assume that the covariance matrix of the errors is correctly specified.\n"
     ]
    }
   ],
   "source": [
    "print(results.summary())"
   ]
  },
  {
   "cell_type": "markdown",
   "metadata": {},
   "source": [
    "Both Literacy and Pop1831 are significant variables and they effect Lottery winning with a negative pattern"
   ]
  },
  {
   "cell_type": "markdown",
   "metadata": {},
   "source": [
    "# 6)- Let's apply a GLM \n",
    "\n",
    "\n",
    "Gamma for proportional count response"
   ]
  },
  {
   "cell_type": "code",
   "execution_count": 40,
   "metadata": {},
   "outputs": [],
   "source": [
    "# loading dataset\n",
    "data = sm.datasets.scotland.load_pandas()"
   ]
  },
  {
   "cell_type": "code",
   "execution_count": 41,
   "metadata": {},
   "outputs": [
    {
     "name": "stdout",
     "output_type": "stream",
     "text": [
      "\n",
      "This data is based on the example in Gill and describes the proportion of\n",
      "voters who voted Yes to grant the Scottish Parliament taxation powers.\n",
      "The data are divided into 32 council districts.  This example's explanatory\n",
      "variables include the amount of council tax collected in pounds sterling as\n",
      "of April 1997 per two adults before adjustments, the female percentage of\n",
      "total claims for unemployment benefits as of January, 1998, the standardized\n",
      "mortality rate (UK is 100), the percentage of labor force participation,\n",
      "regional GDP, the percentage of children aged 5 to 15, and an interaction term\n",
      "between female unemployment and the council tax.\n",
      "\n",
      "The original source files and variable information are included in\n",
      "/scotland/src/\n",
      "\n"
     ]
    }
   ],
   "source": [
    "print(sm.datasets.scotland.DESCRLONG)"
   ]
  },
  {
   "cell_type": "code",
   "execution_count": 42,
   "metadata": {},
   "outputs": [],
   "source": [
    "scotland=data.data"
   ]
  },
  {
   "cell_type": "code",
   "execution_count": 43,
   "metadata": {},
   "outputs": [
    {
     "data": {
      "text/html": [
       "<div>\n",
       "<style scoped>\n",
       "    .dataframe tbody tr th:only-of-type {\n",
       "        vertical-align: middle;\n",
       "    }\n",
       "\n",
       "    .dataframe tbody tr th {\n",
       "        vertical-align: top;\n",
       "    }\n",
       "\n",
       "    .dataframe thead th {\n",
       "        text-align: right;\n",
       "    }\n",
       "</style>\n",
       "<table border=\"1\" class=\"dataframe\">\n",
       "  <thead>\n",
       "    <tr style=\"text-align: right;\">\n",
       "      <th></th>\n",
       "      <th>YES</th>\n",
       "      <th>COUTAX</th>\n",
       "      <th>UNEMPF</th>\n",
       "      <th>MOR</th>\n",
       "      <th>ACT</th>\n",
       "      <th>GDP</th>\n",
       "      <th>AGE</th>\n",
       "      <th>COUTAX_FEMALEUNEMP</th>\n",
       "    </tr>\n",
       "  </thead>\n",
       "  <tbody>\n",
       "    <tr>\n",
       "      <th>0</th>\n",
       "      <td>60.3</td>\n",
       "      <td>712.0</td>\n",
       "      <td>21.0</td>\n",
       "      <td>105.0</td>\n",
       "      <td>82.4</td>\n",
       "      <td>13566.0</td>\n",
       "      <td>12.3</td>\n",
       "      <td>14952.0</td>\n",
       "    </tr>\n",
       "    <tr>\n",
       "      <th>1</th>\n",
       "      <td>52.3</td>\n",
       "      <td>643.0</td>\n",
       "      <td>26.5</td>\n",
       "      <td>97.0</td>\n",
       "      <td>80.2</td>\n",
       "      <td>13566.0</td>\n",
       "      <td>15.3</td>\n",
       "      <td>17039.5</td>\n",
       "    </tr>\n",
       "    <tr>\n",
       "      <th>2</th>\n",
       "      <td>53.4</td>\n",
       "      <td>679.0</td>\n",
       "      <td>28.3</td>\n",
       "      <td>113.0</td>\n",
       "      <td>86.3</td>\n",
       "      <td>9611.0</td>\n",
       "      <td>13.9</td>\n",
       "      <td>19215.7</td>\n",
       "    </tr>\n",
       "    <tr>\n",
       "      <th>3</th>\n",
       "      <td>57.0</td>\n",
       "      <td>801.0</td>\n",
       "      <td>27.1</td>\n",
       "      <td>109.0</td>\n",
       "      <td>80.4</td>\n",
       "      <td>9483.0</td>\n",
       "      <td>13.6</td>\n",
       "      <td>21707.1</td>\n",
       "    </tr>\n",
       "    <tr>\n",
       "      <th>4</th>\n",
       "      <td>68.7</td>\n",
       "      <td>753.0</td>\n",
       "      <td>22.0</td>\n",
       "      <td>115.0</td>\n",
       "      <td>64.7</td>\n",
       "      <td>9265.0</td>\n",
       "      <td>14.6</td>\n",
       "      <td>16566.0</td>\n",
       "    </tr>\n",
       "  </tbody>\n",
       "</table>\n",
       "</div>"
      ],
      "text/plain": [
       "    YES  COUTAX  UNEMPF    MOR   ACT      GDP   AGE  COUTAX_FEMALEUNEMP\n",
       "0  60.3   712.0    21.0  105.0  82.4  13566.0  12.3             14952.0\n",
       "1  52.3   643.0    26.5   97.0  80.2  13566.0  15.3             17039.5\n",
       "2  53.4   679.0    28.3  113.0  86.3   9611.0  13.9             19215.7\n",
       "3  57.0   801.0    27.1  109.0  80.4   9483.0  13.6             21707.1\n",
       "4  68.7   753.0    22.0  115.0  64.7   9265.0  14.6             16566.0"
      ]
     },
     "execution_count": 43,
     "metadata": {},
     "output_type": "execute_result"
    }
   ],
   "source": [
    "scotland.head()"
   ]
  },
  {
   "cell_type": "code",
   "execution_count": 44,
   "metadata": {},
   "outputs": [
    {
     "data": {
      "text/plain": [
       "(32, 8)"
      ]
     },
     "execution_count": 44,
     "metadata": {},
     "output_type": "execute_result"
    }
   ],
   "source": [
    "scotland.shape"
   ]
  },
  {
   "cell_type": "markdown",
   "metadata": {},
   "source": [
    "**\"YES\" being our dependant variable aka endogeneous variable**"
   ]
  },
  {
   "cell_type": "markdown",
   "metadata": {},
   "source": [
    "### 6.1)-add a constant to the exogenous (independent) variables"
   ]
  },
  {
   "cell_type": "code",
   "execution_count": 45,
   "metadata": {},
   "outputs": [],
   "source": [
    "data.exog = sm.add_constant(data.exog)"
   ]
  },
  {
   "cell_type": "code",
   "execution_count": 46,
   "metadata": {},
   "outputs": [],
   "source": [
    "scotland=data.data"
   ]
  },
  {
   "cell_type": "code",
   "execution_count": 47,
   "metadata": {},
   "outputs": [
    {
     "data": {
      "text/html": [
       "<div>\n",
       "<style scoped>\n",
       "    .dataframe tbody tr th:only-of-type {\n",
       "        vertical-align: middle;\n",
       "    }\n",
       "\n",
       "    .dataframe tbody tr th {\n",
       "        vertical-align: top;\n",
       "    }\n",
       "\n",
       "    .dataframe thead th {\n",
       "        text-align: right;\n",
       "    }\n",
       "</style>\n",
       "<table border=\"1\" class=\"dataframe\">\n",
       "  <thead>\n",
       "    <tr style=\"text-align: right;\">\n",
       "      <th></th>\n",
       "      <th>YES</th>\n",
       "      <th>COUTAX</th>\n",
       "      <th>UNEMPF</th>\n",
       "      <th>MOR</th>\n",
       "      <th>ACT</th>\n",
       "      <th>GDP</th>\n",
       "      <th>AGE</th>\n",
       "      <th>COUTAX_FEMALEUNEMP</th>\n",
       "    </tr>\n",
       "  </thead>\n",
       "  <tbody>\n",
       "    <tr>\n",
       "      <th>0</th>\n",
       "      <td>60.3</td>\n",
       "      <td>712.0</td>\n",
       "      <td>21.0</td>\n",
       "      <td>105.0</td>\n",
       "      <td>82.4</td>\n",
       "      <td>13566.0</td>\n",
       "      <td>12.3</td>\n",
       "      <td>14952.0</td>\n",
       "    </tr>\n",
       "    <tr>\n",
       "      <th>1</th>\n",
       "      <td>52.3</td>\n",
       "      <td>643.0</td>\n",
       "      <td>26.5</td>\n",
       "      <td>97.0</td>\n",
       "      <td>80.2</td>\n",
       "      <td>13566.0</td>\n",
       "      <td>15.3</td>\n",
       "      <td>17039.5</td>\n",
       "    </tr>\n",
       "    <tr>\n",
       "      <th>2</th>\n",
       "      <td>53.4</td>\n",
       "      <td>679.0</td>\n",
       "      <td>28.3</td>\n",
       "      <td>113.0</td>\n",
       "      <td>86.3</td>\n",
       "      <td>9611.0</td>\n",
       "      <td>13.9</td>\n",
       "      <td>19215.7</td>\n",
       "    </tr>\n",
       "    <tr>\n",
       "      <th>3</th>\n",
       "      <td>57.0</td>\n",
       "      <td>801.0</td>\n",
       "      <td>27.1</td>\n",
       "      <td>109.0</td>\n",
       "      <td>80.4</td>\n",
       "      <td>9483.0</td>\n",
       "      <td>13.6</td>\n",
       "      <td>21707.1</td>\n",
       "    </tr>\n",
       "    <tr>\n",
       "      <th>4</th>\n",
       "      <td>68.7</td>\n",
       "      <td>753.0</td>\n",
       "      <td>22.0</td>\n",
       "      <td>115.0</td>\n",
       "      <td>64.7</td>\n",
       "      <td>9265.0</td>\n",
       "      <td>14.6</td>\n",
       "      <td>16566.0</td>\n",
       "    </tr>\n",
       "  </tbody>\n",
       "</table>\n",
       "</div>"
      ],
      "text/plain": [
       "    YES  COUTAX  UNEMPF    MOR   ACT      GDP   AGE  COUTAX_FEMALEUNEMP\n",
       "0  60.3   712.0    21.0  105.0  82.4  13566.0  12.3             14952.0\n",
       "1  52.3   643.0    26.5   97.0  80.2  13566.0  15.3             17039.5\n",
       "2  53.4   679.0    28.3  113.0  86.3   9611.0  13.9             19215.7\n",
       "3  57.0   801.0    27.1  109.0  80.4   9483.0  13.6             21707.1\n",
       "4  68.7   753.0    22.0  115.0  64.7   9265.0  14.6             16566.0"
      ]
     },
     "execution_count": 47,
     "metadata": {},
     "output_type": "execute_result"
    }
   ],
   "source": [
    "scotland.head()"
   ]
  },
  {
   "cell_type": "code",
   "execution_count": 48,
   "metadata": {},
   "outputs": [
    {
     "data": {
      "text/plain": [
       "(32, 8)"
      ]
     },
     "execution_count": 48,
     "metadata": {},
     "output_type": "execute_result"
    }
   ],
   "source": [
    "scotland.shape"
   ]
  },
  {
   "cell_type": "markdown",
   "metadata": {},
   "source": [
    "### 6.2)- Fit model\n",
    "\n",
    "Instantiate a gamma family model with the default link function."
   ]
  },
  {
   "cell_type": "code",
   "execution_count": 49,
   "metadata": {},
   "outputs": [
    {
     "name": "stderr",
     "output_type": "stream",
     "text": [
      "C:\\Users\\Hassan\\Anaconda3\\lib\\site-packages\\statsmodels\\genmod\\generalized_linear_model.py:302: DomainWarning: The inverse_power link function does not respect the domain of the Gamma family.\n",
      "  DomainWarning)\n"
     ]
    }
   ],
   "source": [
    "gamma_model = sm.GLM(data.endog, data.exog, family=sm.families.Gamma())"
   ]
  },
  {
   "cell_type": "code",
   "execution_count": 50,
   "metadata": {},
   "outputs": [],
   "source": [
    "gamma_results = gamma_model.fit()"
   ]
  },
  {
   "cell_type": "code",
   "execution_count": 51,
   "metadata": {},
   "outputs": [
    {
     "name": "stdout",
     "output_type": "stream",
     "text": [
      "                 Generalized Linear Model Regression Results                  \n",
      "==============================================================================\n",
      "Dep. Variable:                    YES   No. Observations:                   32\n",
      "Model:                            GLM   Df Residuals:                       24\n",
      "Model Family:                   Gamma   Df Model:                            7\n",
      "Link Function:          inverse_power   Scale:                       0.0035843\n",
      "Method:                          IRLS   Log-Likelihood:                -83.017\n",
      "Date:                Sun, 25 Aug 2019   Deviance:                     0.087389\n",
      "Time:                        11:12:53   Pearson chi2:                   0.0860\n",
      "No. Iterations:                     6   Covariance Type:             nonrobust\n",
      "======================================================================================\n",
      "                         coef    std err          z      P>|z|      [0.025      0.975]\n",
      "--------------------------------------------------------------------------------------\n",
      "const                 -0.0178      0.011     -1.548      0.122      -0.040       0.005\n",
      "COUTAX              4.962e-05   1.62e-05      3.060      0.002    1.78e-05    8.14e-05\n",
      "UNEMPF                 0.0020      0.001      3.824      0.000       0.001       0.003\n",
      "MOR                -7.181e-05   2.71e-05     -2.648      0.008      -0.000   -1.87e-05\n",
      "ACT                    0.0001   4.06e-05      2.757      0.006    3.23e-05       0.000\n",
      "GDP                -1.468e-07   1.24e-07     -1.187      0.235   -3.89e-07    9.56e-08\n",
      "AGE                   -0.0005      0.000     -2.159      0.031      -0.001   -4.78e-05\n",
      "COUTAX_FEMALEUNEMP -2.427e-06   7.46e-07     -3.253      0.001   -3.89e-06   -9.65e-07\n",
      "======================================================================================\n"
     ]
    }
   ],
   "source": [
    "print(gamma_results.summary())"
   ]
  },
  {
   "cell_type": "markdown",
   "metadata": {},
   "source": [
    "# Families\n",
    "\n",
    "\n",
    "The distribution families currently implemented are <br>\n",
    "\n",
    "- Family............. The parent class for one-parameter exponential families.\n",
    "\n",
    "- Binomial...............Binomial exponential family distribution.\n",
    "\n",
    "- Gamma..............Gamma exponential family distribution.\n",
    "\n",
    "- Gaussian...........Gaussian exponential family distribution.\n",
    "\n",
    "- InverseGaussian............. InverseGaussian exponential family.\n",
    "\n",
    "- NegativeBinomial........... Negative Binomial exponential family.\n",
    "\n",
    "- Poisson...........Poisson exponential family.\n",
    "\n",
    "- Tweedie.........Tweedie family."
   ]
  },
  {
   "cell_type": "markdown",
   "metadata": {},
   "source": [
    "# 7)- More on GLM\n",
    "\n",
    "Binomial response data"
   ]
  },
  {
   "cell_type": "markdown",
   "metadata": {},
   "source": [
    "### 7.1)- Loading data"
   ]
  },
  {
   "cell_type": "markdown",
   "metadata": {},
   "source": [
    "Star98 dataset which was taken with permission from Jeff Gill (2000) Generalized linear models: A unified approach."
   ]
  },
  {
   "cell_type": "code",
   "execution_count": 52,
   "metadata": {},
   "outputs": [
    {
     "name": "stdout",
     "output_type": "stream",
     "text": [
      "::\n",
      "\n",
      "    Number of Observations - 303 (counties in California).\n",
      "\n",
      "    Number of Variables - 13 and 8 interaction terms.\n",
      "\n",
      "    Definition of variables names::\n",
      "\n",
      "        NABOVE   - Total number of students above the national median for the\n",
      "                   math section.\n",
      "        NBELOW   - Total number of students below the national median for the\n",
      "                   math section.\n",
      "        LOWINC   - Percentage of low income students\n",
      "        PERASIAN - Percentage of Asian student\n",
      "        PERBLACK - Percentage of black students\n",
      "        PERHISP  - Percentage of Hispanic students\n",
      "        PERMINTE - Percentage of minority teachers\n",
      "        AVYRSEXP - Sum of teachers' years in educational service divided by the\n",
      "                number of teachers.\n",
      "        AVSALK   - Total salary budget including benefits divided by the number\n",
      "                   of full-time teachers (in thousands)\n",
      "        PERSPENK - Per-pupil spending (in thousands)\n",
      "        PTRATIO  - Pupil-teacher ratio.\n",
      "        PCTAF    - Percentage of students taking UC/CSU prep courses\n",
      "        PCTCHRT  - Percentage of charter schools\n",
      "        PCTYRRND - Percentage of year-round schools\n",
      "\n",
      "        The below variables are interaction terms of the variables defined\n",
      "        above.\n",
      "\n",
      "        PERMINTE_AVYRSEXP\n",
      "        PEMINTE_AVSAL\n",
      "        AVYRSEXP_AVSAL\n",
      "        PERSPEN_PTRATIO\n",
      "        PERSPEN_PCTAF\n",
      "        PTRATIO_PCTAF\n",
      "        PERMINTE_AVTRSEXP_AVSAL\n",
      "        PERSPEN_PTRATIO_PCTAF\n",
      "\n"
     ]
    }
   ],
   "source": [
    "# Trying new problem.....new dataset\n",
    "print(sm.datasets.star98.NOTE)"
   ]
  },
  {
   "cell_type": "code",
   "execution_count": 62,
   "metadata": {},
   "outputs": [],
   "source": [
    "data = sm.datasets.star98.load_pandas()"
   ]
  },
  {
   "cell_type": "code",
   "execution_count": 63,
   "metadata": {},
   "outputs": [
    {
     "data": {
      "text/plain": [
       "statsmodels.datasets.utils.Dataset"
      ]
     },
     "execution_count": 63,
     "metadata": {},
     "output_type": "execute_result"
    }
   ],
   "source": [
    "type(data)"
   ]
  },
  {
   "cell_type": "markdown",
   "metadata": {},
   "source": [
    "### 7.2)-Working with dataframe"
   ]
  },
  {
   "cell_type": "code",
   "execution_count": 64,
   "metadata": {},
   "outputs": [
    {
     "data": {
      "text/plain": [
       "(303, 22)"
      ]
     },
     "execution_count": 64,
     "metadata": {},
     "output_type": "execute_result"
    }
   ],
   "source": [
    "data=data.data\n",
    "data.shape"
   ]
  },
  {
   "cell_type": "code",
   "execution_count": 65,
   "metadata": {},
   "outputs": [
    {
     "data": {
      "text/html": [
       "<div>\n",
       "<style scoped>\n",
       "    .dataframe tbody tr th:only-of-type {\n",
       "        vertical-align: middle;\n",
       "    }\n",
       "\n",
       "    .dataframe tbody tr th {\n",
       "        vertical-align: top;\n",
       "    }\n",
       "\n",
       "    .dataframe thead th {\n",
       "        text-align: right;\n",
       "    }\n",
       "</style>\n",
       "<table border=\"1\" class=\"dataframe\">\n",
       "  <thead>\n",
       "    <tr style=\"text-align: right;\">\n",
       "      <th></th>\n",
       "      <th>NABOVE</th>\n",
       "      <th>NBELOW</th>\n",
       "      <th>LOWINC</th>\n",
       "      <th>PERASIAN</th>\n",
       "      <th>PERBLACK</th>\n",
       "      <th>PERHISP</th>\n",
       "      <th>PERMINTE</th>\n",
       "      <th>AVYRSEXP</th>\n",
       "      <th>AVSALK</th>\n",
       "      <th>PERSPENK</th>\n",
       "      <th>...</th>\n",
       "      <th>PCTCHRT</th>\n",
       "      <th>PCTYRRND</th>\n",
       "      <th>PERMINTE_AVYRSEXP</th>\n",
       "      <th>PERMINTE_AVSAL</th>\n",
       "      <th>AVYRSEXP_AVSAL</th>\n",
       "      <th>PERSPEN_PTRATIO</th>\n",
       "      <th>PERSPEN_PCTAF</th>\n",
       "      <th>PTRATIO_PCTAF</th>\n",
       "      <th>PERMINTE_AVYRSEXP_AVSAL</th>\n",
       "      <th>PERSPEN_PTRATIO_PCTAF</th>\n",
       "    </tr>\n",
       "  </thead>\n",
       "  <tbody>\n",
       "    <tr>\n",
       "      <th>0</th>\n",
       "      <td>452.0</td>\n",
       "      <td>355.0</td>\n",
       "      <td>34.39730</td>\n",
       "      <td>23.299300</td>\n",
       "      <td>14.235280</td>\n",
       "      <td>11.411120</td>\n",
       "      <td>15.91837</td>\n",
       "      <td>14.70646</td>\n",
       "      <td>59.15732</td>\n",
       "      <td>4.445207</td>\n",
       "      <td>...</td>\n",
       "      <td>0.0</td>\n",
       "      <td>22.222220</td>\n",
       "      <td>234.102872</td>\n",
       "      <td>941.68811</td>\n",
       "      <td>869.9948</td>\n",
       "      <td>96.50656</td>\n",
       "      <td>253.52242</td>\n",
       "      <td>1238.1955</td>\n",
       "      <td>13848.8985</td>\n",
       "      <td>5504.0352</td>\n",
       "    </tr>\n",
       "    <tr>\n",
       "      <th>1</th>\n",
       "      <td>144.0</td>\n",
       "      <td>40.0</td>\n",
       "      <td>17.36507</td>\n",
       "      <td>29.328380</td>\n",
       "      <td>8.234897</td>\n",
       "      <td>9.314884</td>\n",
       "      <td>13.63636</td>\n",
       "      <td>16.08324</td>\n",
       "      <td>59.50397</td>\n",
       "      <td>5.267598</td>\n",
       "      <td>...</td>\n",
       "      <td>0.0</td>\n",
       "      <td>0.000000</td>\n",
       "      <td>219.316851</td>\n",
       "      <td>811.41756</td>\n",
       "      <td>957.0166</td>\n",
       "      <td>107.68435</td>\n",
       "      <td>340.40609</td>\n",
       "      <td>1321.0664</td>\n",
       "      <td>13050.2233</td>\n",
       "      <td>6958.8468</td>\n",
       "    </tr>\n",
       "    <tr>\n",
       "      <th>2</th>\n",
       "      <td>337.0</td>\n",
       "      <td>234.0</td>\n",
       "      <td>32.64324</td>\n",
       "      <td>9.226386</td>\n",
       "      <td>42.406310</td>\n",
       "      <td>13.543720</td>\n",
       "      <td>28.83436</td>\n",
       "      <td>14.59559</td>\n",
       "      <td>60.56992</td>\n",
       "      <td>5.482922</td>\n",
       "      <td>...</td>\n",
       "      <td>0.0</td>\n",
       "      <td>0.000000</td>\n",
       "      <td>420.854496</td>\n",
       "      <td>1746.49488</td>\n",
       "      <td>884.0537</td>\n",
       "      <td>103.92435</td>\n",
       "      <td>295.75929</td>\n",
       "      <td>1022.4252</td>\n",
       "      <td>25491.1232</td>\n",
       "      <td>5605.8777</td>\n",
       "    </tr>\n",
       "    <tr>\n",
       "      <th>3</th>\n",
       "      <td>395.0</td>\n",
       "      <td>178.0</td>\n",
       "      <td>11.90953</td>\n",
       "      <td>13.883090</td>\n",
       "      <td>3.796973</td>\n",
       "      <td>11.443110</td>\n",
       "      <td>11.11111</td>\n",
       "      <td>14.38939</td>\n",
       "      <td>58.33411</td>\n",
       "      <td>4.165093</td>\n",
       "      <td>...</td>\n",
       "      <td>0.0</td>\n",
       "      <td>7.142857</td>\n",
       "      <td>159.882095</td>\n",
       "      <td>648.15671</td>\n",
       "      <td>839.3923</td>\n",
       "      <td>90.11341</td>\n",
       "      <td>204.34375</td>\n",
       "      <td>1061.4545</td>\n",
       "      <td>9326.5797</td>\n",
       "      <td>4421.0568</td>\n",
       "    </tr>\n",
       "    <tr>\n",
       "      <th>4</th>\n",
       "      <td>8.0</td>\n",
       "      <td>57.0</td>\n",
       "      <td>36.88889</td>\n",
       "      <td>12.187500</td>\n",
       "      <td>76.875000</td>\n",
       "      <td>7.604167</td>\n",
       "      <td>43.58974</td>\n",
       "      <td>13.90568</td>\n",
       "      <td>63.15364</td>\n",
       "      <td>4.324902</td>\n",
       "      <td>...</td>\n",
       "      <td>0.0</td>\n",
       "      <td>0.000000</td>\n",
       "      <td>606.144976</td>\n",
       "      <td>2752.85075</td>\n",
       "      <td>878.1943</td>\n",
       "      <td>81.22097</td>\n",
       "      <td>226.54248</td>\n",
       "      <td>983.7059</td>\n",
       "      <td>38280.2616</td>\n",
       "      <td>4254.4314</td>\n",
       "    </tr>\n",
       "  </tbody>\n",
       "</table>\n",
       "<p>5 rows × 22 columns</p>\n",
       "</div>"
      ],
      "text/plain": [
       "   NABOVE  NBELOW    LOWINC   PERASIAN   PERBLACK    PERHISP  PERMINTE  \\\n",
       "0   452.0   355.0  34.39730  23.299300  14.235280  11.411120  15.91837   \n",
       "1   144.0    40.0  17.36507  29.328380   8.234897   9.314884  13.63636   \n",
       "2   337.0   234.0  32.64324   9.226386  42.406310  13.543720  28.83436   \n",
       "3   395.0   178.0  11.90953  13.883090   3.796973  11.443110  11.11111   \n",
       "4     8.0    57.0  36.88889  12.187500  76.875000   7.604167  43.58974   \n",
       "\n",
       "   AVYRSEXP    AVSALK  PERSPENK  ...  PCTCHRT   PCTYRRND  PERMINTE_AVYRSEXP  \\\n",
       "0  14.70646  59.15732  4.445207  ...      0.0  22.222220         234.102872   \n",
       "1  16.08324  59.50397  5.267598  ...      0.0   0.000000         219.316851   \n",
       "2  14.59559  60.56992  5.482922  ...      0.0   0.000000         420.854496   \n",
       "3  14.38939  58.33411  4.165093  ...      0.0   7.142857         159.882095   \n",
       "4  13.90568  63.15364  4.324902  ...      0.0   0.000000         606.144976   \n",
       "\n",
       "   PERMINTE_AVSAL  AVYRSEXP_AVSAL  PERSPEN_PTRATIO  PERSPEN_PCTAF  \\\n",
       "0       941.68811        869.9948         96.50656      253.52242   \n",
       "1       811.41756        957.0166        107.68435      340.40609   \n",
       "2      1746.49488        884.0537        103.92435      295.75929   \n",
       "3       648.15671        839.3923         90.11341      204.34375   \n",
       "4      2752.85075        878.1943         81.22097      226.54248   \n",
       "\n",
       "   PTRATIO_PCTAF  PERMINTE_AVYRSEXP_AVSAL  PERSPEN_PTRATIO_PCTAF  \n",
       "0      1238.1955               13848.8985              5504.0352  \n",
       "1      1321.0664               13050.2233              6958.8468  \n",
       "2      1022.4252               25491.1232              5605.8777  \n",
       "3      1061.4545                9326.5797              4421.0568  \n",
       "4       983.7059               38280.2616              4254.4314  \n",
       "\n",
       "[5 rows x 22 columns]"
      ]
     },
     "execution_count": 65,
     "metadata": {},
     "output_type": "execute_result"
    }
   ],
   "source": [
    "data.head()"
   ]
  },
  {
   "cell_type": "markdown",
   "metadata": {},
   "source": [
    "**The dependent variable is N by 2 (Success: NABOVE, Failure: NBELOW)**"
   ]
  },
  {
   "cell_type": "code",
   "execution_count": 66,
   "metadata": {},
   "outputs": [],
   "source": [
    "y=data[['NABOVE','NBELOW']]"
   ]
  },
  {
   "cell_type": "code",
   "execution_count": 67,
   "metadata": {},
   "outputs": [
    {
     "data": {
      "text/html": [
       "<div>\n",
       "<style scoped>\n",
       "    .dataframe tbody tr th:only-of-type {\n",
       "        vertical-align: middle;\n",
       "    }\n",
       "\n",
       "    .dataframe tbody tr th {\n",
       "        vertical-align: top;\n",
       "    }\n",
       "\n",
       "    .dataframe thead th {\n",
       "        text-align: right;\n",
       "    }\n",
       "</style>\n",
       "<table border=\"1\" class=\"dataframe\">\n",
       "  <thead>\n",
       "    <tr style=\"text-align: right;\">\n",
       "      <th></th>\n",
       "      <th>NABOVE</th>\n",
       "      <th>NBELOW</th>\n",
       "    </tr>\n",
       "  </thead>\n",
       "  <tbody>\n",
       "    <tr>\n",
       "      <th>0</th>\n",
       "      <td>452.0</td>\n",
       "      <td>355.0</td>\n",
       "    </tr>\n",
       "    <tr>\n",
       "      <th>1</th>\n",
       "      <td>144.0</td>\n",
       "      <td>40.0</td>\n",
       "    </tr>\n",
       "    <tr>\n",
       "      <th>2</th>\n",
       "      <td>337.0</td>\n",
       "      <td>234.0</td>\n",
       "    </tr>\n",
       "    <tr>\n",
       "      <th>3</th>\n",
       "      <td>395.0</td>\n",
       "      <td>178.0</td>\n",
       "    </tr>\n",
       "    <tr>\n",
       "      <th>4</th>\n",
       "      <td>8.0</td>\n",
       "      <td>57.0</td>\n",
       "    </tr>\n",
       "  </tbody>\n",
       "</table>\n",
       "</div>"
      ],
      "text/plain": [
       "   NABOVE  NBELOW\n",
       "0   452.0   355.0\n",
       "1   144.0    40.0\n",
       "2   337.0   234.0\n",
       "3   395.0   178.0\n",
       "4     8.0    57.0"
      ]
     },
     "execution_count": 67,
     "metadata": {},
     "output_type": "execute_result"
    }
   ],
   "source": [
    "y[:5]"
   ]
  },
  {
   "cell_type": "code",
   "execution_count": 68,
   "metadata": {},
   "outputs": [
    {
     "data": {
      "text/html": [
       "<div>\n",
       "<style scoped>\n",
       "    .dataframe tbody tr th:only-of-type {\n",
       "        vertical-align: middle;\n",
       "    }\n",
       "\n",
       "    .dataframe tbody tr th {\n",
       "        vertical-align: top;\n",
       "    }\n",
       "\n",
       "    .dataframe thead th {\n",
       "        text-align: right;\n",
       "    }\n",
       "</style>\n",
       "<table border=\"1\" class=\"dataframe\">\n",
       "  <thead>\n",
       "    <tr style=\"text-align: right;\">\n",
       "      <th></th>\n",
       "      <th>NABOVE</th>\n",
       "      <th>NBELOW</th>\n",
       "      <th>LOWINC</th>\n",
       "      <th>PERASIAN</th>\n",
       "      <th>PERBLACK</th>\n",
       "      <th>PERHISP</th>\n",
       "      <th>PERMINTE</th>\n",
       "      <th>AVYRSEXP</th>\n",
       "      <th>AVSALK</th>\n",
       "      <th>PERSPENK</th>\n",
       "      <th>...</th>\n",
       "      <th>PCTCHRT</th>\n",
       "      <th>PCTYRRND</th>\n",
       "      <th>PERMINTE_AVYRSEXP</th>\n",
       "      <th>PERMINTE_AVSAL</th>\n",
       "      <th>AVYRSEXP_AVSAL</th>\n",
       "      <th>PERSPEN_PTRATIO</th>\n",
       "      <th>PERSPEN_PCTAF</th>\n",
       "      <th>PTRATIO_PCTAF</th>\n",
       "      <th>PERMINTE_AVYRSEXP_AVSAL</th>\n",
       "      <th>PERSPEN_PTRATIO_PCTAF</th>\n",
       "    </tr>\n",
       "  </thead>\n",
       "  <tbody>\n",
       "    <tr>\n",
       "      <th>0</th>\n",
       "      <td>452.0</td>\n",
       "      <td>355.0</td>\n",
       "      <td>34.39730</td>\n",
       "      <td>23.299300</td>\n",
       "      <td>14.235280</td>\n",
       "      <td>11.411120</td>\n",
       "      <td>15.91837</td>\n",
       "      <td>14.70646</td>\n",
       "      <td>59.15732</td>\n",
       "      <td>4.445207</td>\n",
       "      <td>...</td>\n",
       "      <td>0.0</td>\n",
       "      <td>22.222220</td>\n",
       "      <td>234.102872</td>\n",
       "      <td>941.68811</td>\n",
       "      <td>869.9948</td>\n",
       "      <td>96.50656</td>\n",
       "      <td>253.52242</td>\n",
       "      <td>1238.1955</td>\n",
       "      <td>13848.8985</td>\n",
       "      <td>5504.0352</td>\n",
       "    </tr>\n",
       "    <tr>\n",
       "      <th>1</th>\n",
       "      <td>144.0</td>\n",
       "      <td>40.0</td>\n",
       "      <td>17.36507</td>\n",
       "      <td>29.328380</td>\n",
       "      <td>8.234897</td>\n",
       "      <td>9.314884</td>\n",
       "      <td>13.63636</td>\n",
       "      <td>16.08324</td>\n",
       "      <td>59.50397</td>\n",
       "      <td>5.267598</td>\n",
       "      <td>...</td>\n",
       "      <td>0.0</td>\n",
       "      <td>0.000000</td>\n",
       "      <td>219.316851</td>\n",
       "      <td>811.41756</td>\n",
       "      <td>957.0166</td>\n",
       "      <td>107.68435</td>\n",
       "      <td>340.40609</td>\n",
       "      <td>1321.0664</td>\n",
       "      <td>13050.2233</td>\n",
       "      <td>6958.8468</td>\n",
       "    </tr>\n",
       "    <tr>\n",
       "      <th>2</th>\n",
       "      <td>337.0</td>\n",
       "      <td>234.0</td>\n",
       "      <td>32.64324</td>\n",
       "      <td>9.226386</td>\n",
       "      <td>42.406310</td>\n",
       "      <td>13.543720</td>\n",
       "      <td>28.83436</td>\n",
       "      <td>14.59559</td>\n",
       "      <td>60.56992</td>\n",
       "      <td>5.482922</td>\n",
       "      <td>...</td>\n",
       "      <td>0.0</td>\n",
       "      <td>0.000000</td>\n",
       "      <td>420.854496</td>\n",
       "      <td>1746.49488</td>\n",
       "      <td>884.0537</td>\n",
       "      <td>103.92435</td>\n",
       "      <td>295.75929</td>\n",
       "      <td>1022.4252</td>\n",
       "      <td>25491.1232</td>\n",
       "      <td>5605.8777</td>\n",
       "    </tr>\n",
       "    <tr>\n",
       "      <th>3</th>\n",
       "      <td>395.0</td>\n",
       "      <td>178.0</td>\n",
       "      <td>11.90953</td>\n",
       "      <td>13.883090</td>\n",
       "      <td>3.796973</td>\n",
       "      <td>11.443110</td>\n",
       "      <td>11.11111</td>\n",
       "      <td>14.38939</td>\n",
       "      <td>58.33411</td>\n",
       "      <td>4.165093</td>\n",
       "      <td>...</td>\n",
       "      <td>0.0</td>\n",
       "      <td>7.142857</td>\n",
       "      <td>159.882095</td>\n",
       "      <td>648.15671</td>\n",
       "      <td>839.3923</td>\n",
       "      <td>90.11341</td>\n",
       "      <td>204.34375</td>\n",
       "      <td>1061.4545</td>\n",
       "      <td>9326.5797</td>\n",
       "      <td>4421.0568</td>\n",
       "    </tr>\n",
       "    <tr>\n",
       "      <th>4</th>\n",
       "      <td>8.0</td>\n",
       "      <td>57.0</td>\n",
       "      <td>36.88889</td>\n",
       "      <td>12.187500</td>\n",
       "      <td>76.875000</td>\n",
       "      <td>7.604167</td>\n",
       "      <td>43.58974</td>\n",
       "      <td>13.90568</td>\n",
       "      <td>63.15364</td>\n",
       "      <td>4.324902</td>\n",
       "      <td>...</td>\n",
       "      <td>0.0</td>\n",
       "      <td>0.000000</td>\n",
       "      <td>606.144976</td>\n",
       "      <td>2752.85075</td>\n",
       "      <td>878.1943</td>\n",
       "      <td>81.22097</td>\n",
       "      <td>226.54248</td>\n",
       "      <td>983.7059</td>\n",
       "      <td>38280.2616</td>\n",
       "      <td>4254.4314</td>\n",
       "    </tr>\n",
       "  </tbody>\n",
       "</table>\n",
       "<p>5 rows × 22 columns</p>\n",
       "</div>"
      ],
      "text/plain": [
       "   NABOVE  NBELOW    LOWINC   PERASIAN   PERBLACK    PERHISP  PERMINTE  \\\n",
       "0   452.0   355.0  34.39730  23.299300  14.235280  11.411120  15.91837   \n",
       "1   144.0    40.0  17.36507  29.328380   8.234897   9.314884  13.63636   \n",
       "2   337.0   234.0  32.64324   9.226386  42.406310  13.543720  28.83436   \n",
       "3   395.0   178.0  11.90953  13.883090   3.796973  11.443110  11.11111   \n",
       "4     8.0    57.0  36.88889  12.187500  76.875000   7.604167  43.58974   \n",
       "\n",
       "   AVYRSEXP    AVSALK  PERSPENK  ...  PCTCHRT   PCTYRRND  PERMINTE_AVYRSEXP  \\\n",
       "0  14.70646  59.15732  4.445207  ...      0.0  22.222220         234.102872   \n",
       "1  16.08324  59.50397  5.267598  ...      0.0   0.000000         219.316851   \n",
       "2  14.59559  60.56992  5.482922  ...      0.0   0.000000         420.854496   \n",
       "3  14.38939  58.33411  4.165093  ...      0.0   7.142857         159.882095   \n",
       "4  13.90568  63.15364  4.324902  ...      0.0   0.000000         606.144976   \n",
       "\n",
       "   PERMINTE_AVSAL  AVYRSEXP_AVSAL  PERSPEN_PTRATIO  PERSPEN_PCTAF  \\\n",
       "0       941.68811        869.9948         96.50656      253.52242   \n",
       "1       811.41756        957.0166        107.68435      340.40609   \n",
       "2      1746.49488        884.0537        103.92435      295.75929   \n",
       "3       648.15671        839.3923         90.11341      204.34375   \n",
       "4      2752.85075        878.1943         81.22097      226.54248   \n",
       "\n",
       "   PTRATIO_PCTAF  PERMINTE_AVYRSEXP_AVSAL  PERSPEN_PTRATIO_PCTAF  \n",
       "0      1238.1955               13848.8985              5504.0352  \n",
       "1      1321.0664               13050.2233              6958.8468  \n",
       "2      1022.4252               25491.1232              5605.8777  \n",
       "3      1061.4545                9326.5797              4421.0568  \n",
       "4       983.7059               38280.2616              4254.4314  \n",
       "\n",
       "[5 rows x 22 columns]"
      ]
     },
     "execution_count": 68,
     "metadata": {},
     "output_type": "execute_result"
    }
   ],
   "source": [
    "data.head()"
   ]
  },
  {
   "cell_type": "code",
   "execution_count": 69,
   "metadata": {},
   "outputs": [],
   "source": [
    "X=data.drop(['NABOVE','NBELOW'], axis=1)"
   ]
  },
  {
   "cell_type": "code",
   "execution_count": 70,
   "metadata": {
    "scrolled": true
   },
   "outputs": [
    {
     "data": {
      "text/html": [
       "<div>\n",
       "<style scoped>\n",
       "    .dataframe tbody tr th:only-of-type {\n",
       "        vertical-align: middle;\n",
       "    }\n",
       "\n",
       "    .dataframe tbody tr th {\n",
       "        vertical-align: top;\n",
       "    }\n",
       "\n",
       "    .dataframe thead th {\n",
       "        text-align: right;\n",
       "    }\n",
       "</style>\n",
       "<table border=\"1\" class=\"dataframe\">\n",
       "  <thead>\n",
       "    <tr style=\"text-align: right;\">\n",
       "      <th></th>\n",
       "      <th>LOWINC</th>\n",
       "      <th>PERASIAN</th>\n",
       "      <th>PERBLACK</th>\n",
       "      <th>PERHISP</th>\n",
       "      <th>PERMINTE</th>\n",
       "      <th>AVYRSEXP</th>\n",
       "      <th>AVSALK</th>\n",
       "      <th>PERSPENK</th>\n",
       "      <th>PTRATIO</th>\n",
       "      <th>PCTAF</th>\n",
       "      <th>PCTCHRT</th>\n",
       "      <th>PCTYRRND</th>\n",
       "      <th>PERMINTE_AVYRSEXP</th>\n",
       "      <th>PERMINTE_AVSAL</th>\n",
       "      <th>AVYRSEXP_AVSAL</th>\n",
       "      <th>PERSPEN_PTRATIO</th>\n",
       "      <th>PERSPEN_PCTAF</th>\n",
       "      <th>PTRATIO_PCTAF</th>\n",
       "      <th>PERMINTE_AVYRSEXP_AVSAL</th>\n",
       "      <th>PERSPEN_PTRATIO_PCTAF</th>\n",
       "    </tr>\n",
       "  </thead>\n",
       "  <tbody>\n",
       "    <tr>\n",
       "      <th>0</th>\n",
       "      <td>34.39730</td>\n",
       "      <td>23.299300</td>\n",
       "      <td>14.235280</td>\n",
       "      <td>11.411120</td>\n",
       "      <td>15.91837</td>\n",
       "      <td>14.70646</td>\n",
       "      <td>59.15732</td>\n",
       "      <td>4.445207</td>\n",
       "      <td>21.71025</td>\n",
       "      <td>57.03276</td>\n",
       "      <td>0.0</td>\n",
       "      <td>22.222220</td>\n",
       "      <td>234.102872</td>\n",
       "      <td>941.68811</td>\n",
       "      <td>869.9948</td>\n",
       "      <td>96.50656</td>\n",
       "      <td>253.52242</td>\n",
       "      <td>1238.1955</td>\n",
       "      <td>13848.8985</td>\n",
       "      <td>5504.0352</td>\n",
       "    </tr>\n",
       "    <tr>\n",
       "      <th>1</th>\n",
       "      <td>17.36507</td>\n",
       "      <td>29.328380</td>\n",
       "      <td>8.234897</td>\n",
       "      <td>9.314884</td>\n",
       "      <td>13.63636</td>\n",
       "      <td>16.08324</td>\n",
       "      <td>59.50397</td>\n",
       "      <td>5.267598</td>\n",
       "      <td>20.44278</td>\n",
       "      <td>64.62264</td>\n",
       "      <td>0.0</td>\n",
       "      <td>0.000000</td>\n",
       "      <td>219.316851</td>\n",
       "      <td>811.41756</td>\n",
       "      <td>957.0166</td>\n",
       "      <td>107.68435</td>\n",
       "      <td>340.40609</td>\n",
       "      <td>1321.0664</td>\n",
       "      <td>13050.2233</td>\n",
       "      <td>6958.8468</td>\n",
       "    </tr>\n",
       "    <tr>\n",
       "      <th>2</th>\n",
       "      <td>32.64324</td>\n",
       "      <td>9.226386</td>\n",
       "      <td>42.406310</td>\n",
       "      <td>13.543720</td>\n",
       "      <td>28.83436</td>\n",
       "      <td>14.59559</td>\n",
       "      <td>60.56992</td>\n",
       "      <td>5.482922</td>\n",
       "      <td>18.95419</td>\n",
       "      <td>53.94191</td>\n",
       "      <td>0.0</td>\n",
       "      <td>0.000000</td>\n",
       "      <td>420.854496</td>\n",
       "      <td>1746.49488</td>\n",
       "      <td>884.0537</td>\n",
       "      <td>103.92435</td>\n",
       "      <td>295.75929</td>\n",
       "      <td>1022.4252</td>\n",
       "      <td>25491.1232</td>\n",
       "      <td>5605.8777</td>\n",
       "    </tr>\n",
       "    <tr>\n",
       "      <th>3</th>\n",
       "      <td>11.90953</td>\n",
       "      <td>13.883090</td>\n",
       "      <td>3.796973</td>\n",
       "      <td>11.443110</td>\n",
       "      <td>11.11111</td>\n",
       "      <td>14.38939</td>\n",
       "      <td>58.33411</td>\n",
       "      <td>4.165093</td>\n",
       "      <td>21.63539</td>\n",
       "      <td>49.06103</td>\n",
       "      <td>0.0</td>\n",
       "      <td>7.142857</td>\n",
       "      <td>159.882095</td>\n",
       "      <td>648.15671</td>\n",
       "      <td>839.3923</td>\n",
       "      <td>90.11341</td>\n",
       "      <td>204.34375</td>\n",
       "      <td>1061.4545</td>\n",
       "      <td>9326.5797</td>\n",
       "      <td>4421.0568</td>\n",
       "    </tr>\n",
       "    <tr>\n",
       "      <th>4</th>\n",
       "      <td>36.88889</td>\n",
       "      <td>12.187500</td>\n",
       "      <td>76.875000</td>\n",
       "      <td>7.604167</td>\n",
       "      <td>43.58974</td>\n",
       "      <td>13.90568</td>\n",
       "      <td>63.15364</td>\n",
       "      <td>4.324902</td>\n",
       "      <td>18.77984</td>\n",
       "      <td>52.38095</td>\n",
       "      <td>0.0</td>\n",
       "      <td>0.000000</td>\n",
       "      <td>606.144976</td>\n",
       "      <td>2752.85075</td>\n",
       "      <td>878.1943</td>\n",
       "      <td>81.22097</td>\n",
       "      <td>226.54248</td>\n",
       "      <td>983.7059</td>\n",
       "      <td>38280.2616</td>\n",
       "      <td>4254.4314</td>\n",
       "    </tr>\n",
       "  </tbody>\n",
       "</table>\n",
       "</div>"
      ],
      "text/plain": [
       "     LOWINC   PERASIAN   PERBLACK    PERHISP  PERMINTE  AVYRSEXP    AVSALK  \\\n",
       "0  34.39730  23.299300  14.235280  11.411120  15.91837  14.70646  59.15732   \n",
       "1  17.36507  29.328380   8.234897   9.314884  13.63636  16.08324  59.50397   \n",
       "2  32.64324   9.226386  42.406310  13.543720  28.83436  14.59559  60.56992   \n",
       "3  11.90953  13.883090   3.796973  11.443110  11.11111  14.38939  58.33411   \n",
       "4  36.88889  12.187500  76.875000   7.604167  43.58974  13.90568  63.15364   \n",
       "\n",
       "   PERSPENK   PTRATIO     PCTAF  PCTCHRT   PCTYRRND  PERMINTE_AVYRSEXP  \\\n",
       "0  4.445207  21.71025  57.03276      0.0  22.222220         234.102872   \n",
       "1  5.267598  20.44278  64.62264      0.0   0.000000         219.316851   \n",
       "2  5.482922  18.95419  53.94191      0.0   0.000000         420.854496   \n",
       "3  4.165093  21.63539  49.06103      0.0   7.142857         159.882095   \n",
       "4  4.324902  18.77984  52.38095      0.0   0.000000         606.144976   \n",
       "\n",
       "   PERMINTE_AVSAL  AVYRSEXP_AVSAL  PERSPEN_PTRATIO  PERSPEN_PCTAF  \\\n",
       "0       941.68811        869.9948         96.50656      253.52242   \n",
       "1       811.41756        957.0166        107.68435      340.40609   \n",
       "2      1746.49488        884.0537        103.92435      295.75929   \n",
       "3       648.15671        839.3923         90.11341      204.34375   \n",
       "4      2752.85075        878.1943         81.22097      226.54248   \n",
       "\n",
       "   PTRATIO_PCTAF  PERMINTE_AVYRSEXP_AVSAL  PERSPEN_PTRATIO_PCTAF  \n",
       "0      1238.1955               13848.8985              5504.0352  \n",
       "1      1321.0664               13050.2233              6958.8468  \n",
       "2      1022.4252               25491.1232              5605.8777  \n",
       "3      1061.4545                9326.5797              4421.0568  \n",
       "4       983.7059               38280.2616              4254.4314  "
      ]
     },
     "execution_count": 70,
     "metadata": {},
     "output_type": "execute_result"
    }
   ],
   "source": [
    "X[:5]"
   ]
  },
  {
   "cell_type": "markdown",
   "metadata": {},
   "source": [
    "### 7.3)-Normalize data"
   ]
  },
  {
   "cell_type": "code",
   "execution_count": 71,
   "metadata": {},
   "outputs": [],
   "source": [
    "from sklearn.preprocessing import StandardScaler\n",
    "X_scaled = StandardScaler().fit_transform(X)"
   ]
  },
  {
   "cell_type": "code",
   "execution_count": 72,
   "metadata": {},
   "outputs": [
    {
     "data": {
      "text/plain": [
       "array([[-0.34319004,  1.97680718,  0.97920574, ...,  1.39452818,\n",
       "         0.1073676 ,  1.40735287],\n",
       "       [-1.17673409,  2.66165191,  0.29587396, ...,  1.63001633,\n",
       "         0.0395062 ,  2.3131254 ],\n",
       "       [-0.42903237,  0.37826129,  4.18736095, ...,  0.78138954,\n",
       "         1.09657778,  1.47076048],\n",
       "       ...,\n",
       "       [ 0.09809539, -0.25532493, -0.46641291, ..., -0.19499878,\n",
       "         0.33822502, -0.39423664],\n",
       "       [ 1.42957153,  1.65448574, -0.30149664, ..., -1.05308762,\n",
       "        -0.11118214, -1.08777319],\n",
       "       [ 1.7783726 ,  0.01165023,  0.44862622, ..., -0.78455078,\n",
       "        -0.3324623 ,  0.00936736]])"
      ]
     },
     "execution_count": 72,
     "metadata": {},
     "output_type": "execute_result"
    }
   ],
   "source": [
    "X_scaled"
   ]
  },
  {
   "cell_type": "markdown",
   "metadata": {},
   "source": [
    "### 7.4)- Fit the model"
   ]
  },
  {
   "cell_type": "code",
   "execution_count": 73,
   "metadata": {},
   "outputs": [
    {
     "name": "stdout",
     "output_type": "stream",
     "text": [
      "                  Generalized Linear Model Regression Results                   \n",
      "================================================================================\n",
      "Dep. Variable:     ['NABOVE', 'NBELOW']   No. Observations:                  303\n",
      "Model:                              GLM   Df Residuals:                      283\n",
      "Model Family:                  Binomial   Df Model:                           19\n",
      "Link Function:                    logit   Scale:                          1.0000\n",
      "Method:                            IRLS   Log-Likelihood:                -3000.5\n",
      "Date:                  Sun, 25 Aug 2019   Deviance:                       4082.4\n",
      "Time:                          11:15:25   Pearson chi2:                 4.05e+03\n",
      "No. Iterations:                       5   Covariance Type:             nonrobust\n",
      "===========================================================================================\n",
      "                              coef    std err          z      P>|z|      [0.025      0.975]\n",
      "-------------------------------------------------------------------------------------------\n",
      "LOWINC                     -0.0169      0.000    -39.491      0.000      -0.018      -0.016\n",
      "PERASIAN                    0.0101      0.001     16.832      0.000       0.009       0.011\n",
      "PERBLACK                   -0.0186      0.001    -25.132      0.000      -0.020      -0.017\n",
      "PERHISP                    -0.0142      0.000    -32.755      0.000      -0.015      -0.013\n",
      "PERMINTE                    0.2778      0.027     10.154      0.000       0.224       0.331\n",
      "AVYRSEXP                    0.2937      0.050      5.872      0.000       0.196       0.392\n",
      "AVSALK                      0.0930      0.012      7.577      0.000       0.069       0.117\n",
      "PERSPENK                   -1.4432      0.171     -8.461      0.000      -1.777      -1.109\n",
      "PTRATIO                    -0.2347      0.032     -7.283      0.000      -0.298      -0.172\n",
      "PCTAF                      -0.1179      0.019     -6.351      0.000      -0.154      -0.081\n",
      "PCTCHRT                     0.0047      0.001      3.748      0.000       0.002       0.007\n",
      "PCTYRRND                   -0.0036      0.000    -16.239      0.000      -0.004      -0.003\n",
      "PERMINTE_AVYRSEXP          -0.0157      0.002     -9.142      0.000      -0.019      -0.012\n",
      "PERMINTE_AVSAL             -0.0044      0.000    -10.137      0.000      -0.005      -0.004\n",
      "AVYRSEXP_AVSAL             -0.0048      0.001     -5.646      0.000      -0.006      -0.003\n",
      "PERSPEN_PTRATIO             0.0686      0.008      8.587      0.000       0.053       0.084\n",
      "PERSPEN_PCTAF               0.0372      0.004      9.099      0.000       0.029       0.045\n",
      "PTRATIO_PCTAF               0.0057      0.001      6.760      0.000       0.004       0.007\n",
      "PERMINTE_AVYRSEXP_AVSAL     0.0002   2.68e-05      9.237      0.000       0.000       0.000\n",
      "PERSPEN_PTRATIO_PCTAF      -0.0017      0.000     -8.680      0.000      -0.002      -0.001\n",
      "===========================================================================================\n"
     ]
    }
   ],
   "source": [
    "glm_binom = sm.GLM(y, X, family=sm.families.Binomial())\n",
    "res = glm_binom.fit()\n",
    "print(res.summary())"
   ]
  },
  {
   "cell_type": "markdown",
   "metadata": {},
   "source": [
    "### 7.4)-Intercept term\n",
    "We cannot find intercept term in this example. Let's try that"
   ]
  },
  {
   "cell_type": "code",
   "execution_count": 74,
   "metadata": {},
   "outputs": [],
   "source": [
    "data = sm.datasets.star98.load_pandas()"
   ]
  },
  {
   "cell_type": "code",
   "execution_count": 75,
   "metadata": {},
   "outputs": [],
   "source": [
    "# add intercept term i.e constant\n",
    "data.exog = sm.add_constant(data.exog)"
   ]
  },
  {
   "cell_type": "markdown",
   "metadata": {},
   "source": [
    "**The dependent variable is N by 2 (Success: NABOVE, Failure: NBELOW) also known as endogenous**"
   ]
  },
  {
   "cell_type": "code",
   "execution_count": 76,
   "metadata": {},
   "outputs": [
    {
     "data": {
      "text/html": [
       "<div>\n",
       "<style scoped>\n",
       "    .dataframe tbody tr th:only-of-type {\n",
       "        vertical-align: middle;\n",
       "    }\n",
       "\n",
       "    .dataframe tbody tr th {\n",
       "        vertical-align: top;\n",
       "    }\n",
       "\n",
       "    .dataframe thead th {\n",
       "        text-align: right;\n",
       "    }\n",
       "</style>\n",
       "<table border=\"1\" class=\"dataframe\">\n",
       "  <thead>\n",
       "    <tr style=\"text-align: right;\">\n",
       "      <th></th>\n",
       "      <th>const</th>\n",
       "      <th>LOWINC</th>\n",
       "      <th>PERASIAN</th>\n",
       "      <th>PERBLACK</th>\n",
       "      <th>PERHISP</th>\n",
       "      <th>PERMINTE</th>\n",
       "      <th>AVYRSEXP</th>\n",
       "      <th>AVSALK</th>\n",
       "      <th>PERSPENK</th>\n",
       "      <th>PTRATIO</th>\n",
       "      <th>...</th>\n",
       "      <th>PCTCHRT</th>\n",
       "      <th>PCTYRRND</th>\n",
       "      <th>PERMINTE_AVYRSEXP</th>\n",
       "      <th>PERMINTE_AVSAL</th>\n",
       "      <th>AVYRSEXP_AVSAL</th>\n",
       "      <th>PERSPEN_PTRATIO</th>\n",
       "      <th>PERSPEN_PCTAF</th>\n",
       "      <th>PTRATIO_PCTAF</th>\n",
       "      <th>PERMINTE_AVYRSEXP_AVSAL</th>\n",
       "      <th>PERSPEN_PTRATIO_PCTAF</th>\n",
       "    </tr>\n",
       "  </thead>\n",
       "  <tbody>\n",
       "    <tr>\n",
       "      <th>0</th>\n",
       "      <td>1.0</td>\n",
       "      <td>34.39730</td>\n",
       "      <td>23.299300</td>\n",
       "      <td>14.235280</td>\n",
       "      <td>11.411120</td>\n",
       "      <td>15.91837</td>\n",
       "      <td>14.70646</td>\n",
       "      <td>59.15732</td>\n",
       "      <td>4.445207</td>\n",
       "      <td>21.71025</td>\n",
       "      <td>...</td>\n",
       "      <td>0.0</td>\n",
       "      <td>22.22222</td>\n",
       "      <td>234.102872</td>\n",
       "      <td>941.68811</td>\n",
       "      <td>869.9948</td>\n",
       "      <td>96.50656</td>\n",
       "      <td>253.52242</td>\n",
       "      <td>1238.1955</td>\n",
       "      <td>13848.8985</td>\n",
       "      <td>5504.0352</td>\n",
       "    </tr>\n",
       "    <tr>\n",
       "      <th>1</th>\n",
       "      <td>1.0</td>\n",
       "      <td>17.36507</td>\n",
       "      <td>29.328380</td>\n",
       "      <td>8.234897</td>\n",
       "      <td>9.314884</td>\n",
       "      <td>13.63636</td>\n",
       "      <td>16.08324</td>\n",
       "      <td>59.50397</td>\n",
       "      <td>5.267598</td>\n",
       "      <td>20.44278</td>\n",
       "      <td>...</td>\n",
       "      <td>0.0</td>\n",
       "      <td>0.00000</td>\n",
       "      <td>219.316851</td>\n",
       "      <td>811.41756</td>\n",
       "      <td>957.0166</td>\n",
       "      <td>107.68435</td>\n",
       "      <td>340.40609</td>\n",
       "      <td>1321.0664</td>\n",
       "      <td>13050.2233</td>\n",
       "      <td>6958.8468</td>\n",
       "    </tr>\n",
       "    <tr>\n",
       "      <th>2</th>\n",
       "      <td>1.0</td>\n",
       "      <td>32.64324</td>\n",
       "      <td>9.226386</td>\n",
       "      <td>42.406310</td>\n",
       "      <td>13.543720</td>\n",
       "      <td>28.83436</td>\n",
       "      <td>14.59559</td>\n",
       "      <td>60.56992</td>\n",
       "      <td>5.482922</td>\n",
       "      <td>18.95419</td>\n",
       "      <td>...</td>\n",
       "      <td>0.0</td>\n",
       "      <td>0.00000</td>\n",
       "      <td>420.854496</td>\n",
       "      <td>1746.49488</td>\n",
       "      <td>884.0537</td>\n",
       "      <td>103.92435</td>\n",
       "      <td>295.75929</td>\n",
       "      <td>1022.4252</td>\n",
       "      <td>25491.1232</td>\n",
       "      <td>5605.8777</td>\n",
       "    </tr>\n",
       "  </tbody>\n",
       "</table>\n",
       "<p>3 rows × 21 columns</p>\n",
       "</div>"
      ],
      "text/plain": [
       "   const    LOWINC   PERASIAN   PERBLACK    PERHISP  PERMINTE  AVYRSEXP  \\\n",
       "0    1.0  34.39730  23.299300  14.235280  11.411120  15.91837  14.70646   \n",
       "1    1.0  17.36507  29.328380   8.234897   9.314884  13.63636  16.08324   \n",
       "2    1.0  32.64324   9.226386  42.406310  13.543720  28.83436  14.59559   \n",
       "\n",
       "     AVSALK  PERSPENK   PTRATIO  ...  PCTCHRT  PCTYRRND  PERMINTE_AVYRSEXP  \\\n",
       "0  59.15732  4.445207  21.71025  ...      0.0  22.22222         234.102872   \n",
       "1  59.50397  5.267598  20.44278  ...      0.0   0.00000         219.316851   \n",
       "2  60.56992  5.482922  18.95419  ...      0.0   0.00000         420.854496   \n",
       "\n",
       "   PERMINTE_AVSAL  AVYRSEXP_AVSAL  PERSPEN_PTRATIO  PERSPEN_PCTAF  \\\n",
       "0       941.68811        869.9948         96.50656      253.52242   \n",
       "1       811.41756        957.0166        107.68435      340.40609   \n",
       "2      1746.49488        884.0537        103.92435      295.75929   \n",
       "\n",
       "   PTRATIO_PCTAF  PERMINTE_AVYRSEXP_AVSAL  PERSPEN_PTRATIO_PCTAF  \n",
       "0      1238.1955               13848.8985              5504.0352  \n",
       "1      1321.0664               13050.2233              6958.8468  \n",
       "2      1022.4252               25491.1232              5605.8777  \n",
       "\n",
       "[3 rows x 21 columns]"
      ]
     },
     "execution_count": 76,
     "metadata": {},
     "output_type": "execute_result"
    }
   ],
   "source": [
    "data.exog.loc[:2,:]"
   ]
  },
  {
   "cell_type": "code",
   "execution_count": 77,
   "metadata": {},
   "outputs": [
    {
     "name": "stdout",
     "output_type": "stream",
     "text": [
      "   NABOVE  NBELOW\n",
      "0   452.0   355.0\n",
      "1   144.0    40.0\n",
      "2   337.0   234.0\n",
      "3   395.0   178.0\n",
      "4     8.0    57.0\n",
      "5  1348.0   899.0\n"
     ]
    }
   ],
   "source": [
    "print(data.endog.loc[:5,:])"
   ]
  },
  {
   "cell_type": "code",
   "execution_count": 78,
   "metadata": {},
   "outputs": [
    {
     "name": "stdout",
     "output_type": "stream",
     "text": [
      "                  Generalized Linear Model Regression Results                   \n",
      "================================================================================\n",
      "Dep. Variable:     ['NABOVE', 'NBELOW']   No. Observations:                  303\n",
      "Model:                              GLM   Df Residuals:                      282\n",
      "Model Family:                  Binomial   Df Model:                           20\n",
      "Link Function:                    logit   Scale:                          1.0000\n",
      "Method:                            IRLS   Log-Likelihood:                -2998.6\n",
      "Date:                  Sun, 25 Aug 2019   Deviance:                       4078.8\n",
      "Time:                          11:15:28   Pearson chi2:                 4.05e+03\n",
      "No. Iterations:                       5   Covariance Type:             nonrobust\n",
      "===========================================================================================\n",
      "                              coef    std err          z      P>|z|      [0.025      0.975]\n",
      "-------------------------------------------------------------------------------------------\n",
      "const                       2.9589      1.547      1.913      0.056      -0.073       5.990\n",
      "LOWINC                     -0.0168      0.000    -38.749      0.000      -0.018      -0.016\n",
      "PERASIAN                    0.0099      0.001     16.505      0.000       0.009       0.011\n",
      "PERBLACK                   -0.0187      0.001    -25.182      0.000      -0.020      -0.017\n",
      "PERHISP                    -0.0142      0.000    -32.818      0.000      -0.015      -0.013\n",
      "PERMINTE                    0.2545      0.030      8.498      0.000       0.196       0.313\n",
      "AVYRSEXP                    0.2407      0.057      4.212      0.000       0.129       0.353\n",
      "AVSALK                      0.0804      0.014      5.775      0.000       0.053       0.108\n",
      "PERSPENK                   -1.9522      0.317     -6.162      0.000      -2.573      -1.331\n",
      "PTRATIO                    -0.3341      0.061     -5.453      0.000      -0.454      -0.214\n",
      "PCTAF                      -0.1690      0.033     -5.169      0.000      -0.233      -0.105\n",
      "PCTCHRT                     0.0049      0.001      3.921      0.000       0.002       0.007\n",
      "PCTYRRND                   -0.0036      0.000    -15.878      0.000      -0.004      -0.003\n",
      "PERMINTE_AVYRSEXP          -0.0141      0.002     -7.391      0.000      -0.018      -0.010\n",
      "PERMINTE_AVSAL             -0.0040      0.000     -8.450      0.000      -0.005      -0.003\n",
      "AVYRSEXP_AVSAL             -0.0039      0.001     -4.059      0.000      -0.006      -0.002\n",
      "PERSPEN_PTRATIO             0.0917      0.015      6.321      0.000       0.063       0.120\n",
      "PERSPEN_PCTAF               0.0490      0.007      6.574      0.000       0.034       0.064\n",
      "PTRATIO_PCTAF               0.0080      0.001      5.362      0.000       0.005       0.011\n",
      "PERMINTE_AVYRSEXP_AVSAL     0.0002   2.99e-05      7.428      0.000       0.000       0.000\n",
      "PERSPEN_PTRATIO_PCTAF      -0.0022      0.000     -6.445      0.000      -0.003      -0.002\n",
      "===========================================================================================\n"
     ]
    }
   ],
   "source": [
    "#Fit and summary\n",
    "\n",
    "glm_binom = sm.GLM(data.endog, data.exog, family=sm.families.Binomial())\n",
    "res = glm_binom.fit()\n",
    "print(res.summary())"
   ]
  },
  {
   "cell_type": "markdown",
   "metadata": {},
   "source": [
    "**Results of both approaches are same. Only difference is that we did not consider intercept term. It is very important as in stats it is taken as bias term.**"
   ]
  },
  {
   "cell_type": "markdown",
   "metadata": {},
   "source": [
    "# 8)- Results\n",
    "\n",
    "Quantities of interest"
   ]
  },
  {
   "cell_type": "code",
   "execution_count": 79,
   "metadata": {},
   "outputs": [
    {
     "name": "stdout",
     "output_type": "stream",
     "text": [
      "Total number of trials: 807.0\n"
     ]
    }
   ],
   "source": [
    "print('Total number of trials:',  data.endog.loc[0].sum())"
   ]
  },
  {
   "cell_type": "code",
   "execution_count": 80,
   "metadata": {},
   "outputs": [
    {
     "name": "stdout",
     "output_type": "stream",
     "text": [
      "Parameters:  const                      2.958878\n",
      "LOWINC                    -0.016815\n",
      "PERASIAN                   0.009925\n",
      "PERBLACK                  -0.018724\n",
      "PERHISP                   -0.014239\n",
      "PERMINTE                   0.254487\n",
      "AVYRSEXP                   0.240694\n",
      "AVSALK                     0.080409\n",
      "PERSPENK                  -1.952161\n",
      "PTRATIO                   -0.334086\n",
      "PCTAF                     -0.169022\n",
      "PCTCHRT                    0.004917\n",
      "PCTYRRND                  -0.003580\n",
      "PERMINTE_AVYRSEXP         -0.014077\n",
      "PERMINTE_AVSAL            -0.004005\n",
      "AVYRSEXP_AVSAL            -0.003906\n",
      "PERSPEN_PTRATIO            0.091714\n",
      "PERSPEN_PCTAF              0.048990\n",
      "PTRATIO_PCTAF              0.008041\n",
      "PERMINTE_AVYRSEXP_AVSAL    0.000222\n",
      "PERSPEN_PTRATIO_PCTAF     -0.002249\n",
      "dtype: float64\n"
     ]
    }
   ],
   "source": [
    "print('Parameters: ', res.params)"
   ]
  },
  {
   "cell_type": "code",
   "execution_count": 81,
   "metadata": {},
   "outputs": [
    {
     "name": "stdout",
     "output_type": "stream",
     "text": [
      "T-values:  const                       1.913012\n",
      "LOWINC                    -38.749083\n",
      "PERASIAN                   16.504736\n",
      "PERBLACK                  -25.182189\n",
      "PERHISP                   -32.817913\n",
      "PERMINTE                    8.498271\n",
      "AVYRSEXP                    4.212479\n",
      "AVSALK                      5.774998\n",
      "PERSPENK                   -6.161911\n",
      "PTRATIO                    -5.453217\n",
      "PCTAF                      -5.168654\n",
      "PCTCHRT                     3.921200\n",
      "PCTYRRND                  -15.878260\n",
      "PERMINTE_AVYRSEXP          -7.390931\n",
      "PERMINTE_AVSAL             -8.449639\n",
      "AVYRSEXP_AVSAL             -4.059162\n",
      "PERSPEN_PTRATIO             6.321099\n",
      "PERSPEN_PCTAF               6.574347\n",
      "PTRATIO_PCTAF               5.362290\n",
      "PERMINTE_AVYRSEXP_AVSAL     7.428064\n",
      "PERSPEN_PTRATIO_PCTAF      -6.445137\n",
      "dtype: float64\n"
     ]
    }
   ],
   "source": [
    "print('T-values: ', res.tvalues)"
   ]
  },
  {
   "cell_type": "code",
   "execution_count": 82,
   "metadata": {},
   "outputs": [
    {
     "name": "stdout",
     "output_type": "stream",
     "text": [
      "p-values:  const                       5.574657e-02\n",
      "LOWINC                      0.000000e+00\n",
      "PERASIAN                    3.392118e-61\n",
      "PERBLACK                   6.278195e-140\n",
      "PERHISP                    3.269641e-236\n",
      "PERMINTE                    1.924352e-17\n",
      "AVYRSEXP                    2.525829e-05\n",
      "AVSALK                      7.695418e-09\n",
      "PERSPENK                    7.187234e-10\n",
      "PTRATIO                     4.946672e-08\n",
      "PCTAF                       2.357854e-07\n",
      "PCTCHRT                     8.810923e-05\n",
      "PCTYRRND                    8.963046e-57\n",
      "PERMINTE_AVYRSEXP           1.458047e-13\n",
      "PERMINTE_AVSAL              2.922053e-17\n",
      "AVYRSEXP_AVSAL              4.924904e-05\n",
      "PERSPEN_PTRATIO             2.597101e-10\n",
      "PERSPEN_PCTAF               4.886728e-11\n",
      "PTRATIO_PCTAF               8.217327e-08\n",
      "PERMINTE_AVYRSEXP_AVSAL     1.101990e-13\n",
      "PERSPEN_PTRATIO_PCTAF       1.154961e-10\n",
      "dtype: float64\n"
     ]
    }
   ],
   "source": [
    "print('p-values: ', res.pvalues)"
   ]
  },
  {
   "cell_type": "markdown",
   "metadata": {},
   "source": [
    "# 9)- Visualization of results\n",
    "\n",
    "Plots"
   ]
  },
  {
   "cell_type": "code",
   "execution_count": 83,
   "metadata": {},
   "outputs": [
    {
     "data": {
      "text/plain": [
       "0       807.0\n",
       "1       184.0\n",
       "2       571.0\n",
       "3       573.0\n",
       "4        65.0\n",
       "5      2247.0\n",
       "6      1364.0\n",
       "7       912.0\n",
       "8       525.0\n",
       "9      1067.0\n",
       "10     3016.0\n",
       "11      235.0\n",
       "12      556.0\n",
       "13      688.0\n",
       "14      252.0\n",
       "15      925.0\n",
       "16      377.0\n",
       "17       69.0\n",
       "18     1092.0\n",
       "19      115.0\n",
       "20      139.0\n",
       "21      449.0\n",
       "22      309.0\n",
       "23      116.0\n",
       "24       81.0\n",
       "25       66.0\n",
       "26     1259.0\n",
       "27      190.0\n",
       "28      322.0\n",
       "29     2394.0\n",
       "        ...  \n",
       "273     120.0\n",
       "274     224.0\n",
       "275     733.0\n",
       "276     120.0\n",
       "277     135.0\n",
       "278     776.0\n",
       "279     207.0\n",
       "280      41.0\n",
       "281      43.0\n",
       "282     259.0\n",
       "283     342.0\n",
       "284     250.0\n",
       "285    1750.0\n",
       "286     150.0\n",
       "287     134.0\n",
       "288      53.0\n",
       "289     266.0\n",
       "290     304.0\n",
       "291    1338.0\n",
       "292    1170.0\n",
       "293    1431.0\n",
       "294     248.0\n",
       "295     516.0\n",
       "296     591.0\n",
       "297      59.0\n",
       "298     342.0\n",
       "299     154.0\n",
       "300     595.0\n",
       "301     709.0\n",
       "302     156.0\n",
       "Length: 303, dtype: float64"
      ]
     },
     "execution_count": 83,
     "metadata": {},
     "output_type": "execute_result"
    }
   ],
   "source": [
    "data.endog.sum(1)"
   ]
  },
  {
   "cell_type": "code",
   "execution_count": 84,
   "metadata": {},
   "outputs": [
    {
     "data": {
      "text/plain": [
       "0       452.0\n",
       "1       144.0\n",
       "2       337.0\n",
       "3       395.0\n",
       "4         8.0\n",
       "5      1348.0\n",
       "6       477.0\n",
       "7       565.0\n",
       "8       205.0\n",
       "9       469.0\n",
       "10      784.0\n",
       "11      209.0\n",
       "12      195.0\n",
       "13      206.0\n",
       "14      136.0\n",
       "15      694.0\n",
       "16      204.0\n",
       "17       31.0\n",
       "18      601.0\n",
       "19       64.0\n",
       "20       51.0\n",
       "21      220.0\n",
       "22      151.0\n",
       "23       36.0\n",
       "24       15.0\n",
       "25        5.0\n",
       "26      541.0\n",
       "27       86.0\n",
       "28      142.0\n",
       "29     1365.0\n",
       "        ...  \n",
       "273      55.0\n",
       "274      72.0\n",
       "275     359.0\n",
       "276      31.0\n",
       "277      39.0\n",
       "278     303.0\n",
       "279      79.0\n",
       "280      19.0\n",
       "281      23.0\n",
       "282      91.0\n",
       "283      96.0\n",
       "284      40.0\n",
       "285     578.0\n",
       "286      26.0\n",
       "287      23.0\n",
       "288      31.0\n",
       "289      59.0\n",
       "290     204.0\n",
       "291     736.0\n",
       "292     526.0\n",
       "293    1088.0\n",
       "294     186.0\n",
       "295     284.0\n",
       "296     455.0\n",
       "297      17.0\n",
       "298      96.0\n",
       "299      37.0\n",
       "300     208.0\n",
       "301     199.0\n",
       "302      72.0\n",
       "Name: NABOVE, Length: 303, dtype: float64"
      ]
     },
     "execution_count": 84,
     "metadata": {},
     "output_type": "execute_result"
    }
   ],
   "source": [
    "data.endog.iloc[:, 0]"
   ]
  },
  {
   "cell_type": "code",
   "execution_count": 85,
   "metadata": {},
   "outputs": [],
   "source": [
    "nobs = res.nobs\n",
    "y = data.endog.iloc[:,0]/data.endog.sum(1)"
   ]
  },
  {
   "cell_type": "code",
   "execution_count": 86,
   "metadata": {},
   "outputs": [
    {
     "data": {
      "text/plain": [
       "0    0.560099\n",
       "1    0.782609\n",
       "2    0.590193\n",
       "3    0.689354\n",
       "4    0.123077\n",
       "dtype: float64"
      ]
     },
     "execution_count": 86,
     "metadata": {},
     "output_type": "execute_result"
    }
   ],
   "source": [
    "y[:5]"
   ]
  },
  {
   "cell_type": "code",
   "execution_count": 87,
   "metadata": {},
   "outputs": [],
   "source": [
    "yhat = res.mu"
   ]
  },
  {
   "cell_type": "markdown",
   "metadata": {},
   "source": [
    "### 9a)-Plot yhat vs y"
   ]
  },
  {
   "cell_type": "code",
   "execution_count": 88,
   "metadata": {},
   "outputs": [],
   "source": [
    "from statsmodels.graphics.api import abline_plot"
   ]
  },
  {
   "cell_type": "code",
   "execution_count": 89,
   "metadata": {},
   "outputs": [
    {
     "data": {
      "image/png": "[encoded data removed]",
      "text/plain": [
       "<Figure size 432x288 with 1 Axes>"
      ]
     },
     "metadata": {},
     "output_type": "display_data"
    }
   ],
   "source": [
    "fig, ax = plt.subplots()\n",
    "ax.scatter(yhat, y)\n",
    "line_fit = sm.OLS(y, sm.add_constant(yhat, prepend=True)).fit()\n",
    "abline_plot(model_results=line_fit, ax=ax)\n",
    "\n",
    "ax.set_title('Model Fit Plot')\n",
    "ax.set_ylabel('Observed values')\n",
    "ax.set_xlabel('Fitted values');"
   ]
  },
  {
   "cell_type": "markdown",
   "metadata": {},
   "source": [
    "### 9b)-Plot yhat vs. Pearson residuals"
   ]
  },
  {
   "cell_type": "code",
   "execution_count": 90,
   "metadata": {},
   "outputs": [
    {
     "data": {
      "text/plain": [
       "Text(0.5, 0, 'Fitted values')"
      ]
     },
     "execution_count": 90,
     "metadata": {},
     "output_type": "execute_result"
    },
    {
     "data": {
      "image/png": "[encoded data removed]",
      "text/plain": [
       "<Figure size 432x288 with 1 Axes>"
      ]
     },
     "metadata": {},
     "output_type": "display_data"
    }
   ],
   "source": [
    "fig, ax = plt.subplots()\n",
    "\n",
    "ax.scatter(yhat, res.resid_pearson)\n",
    "ax.hlines(0, 0, 1)\n",
    "ax.set_xlim(0, 1)\n",
    "ax.set_title('Residual Dependence Plot')\n",
    "ax.set_ylabel('Pearson Residuals')\n",
    "ax.set_xlabel('Fitted values')"
   ]
  },
  {
   "cell_type": "markdown",
   "metadata": {},
   "source": [
    "### 9c)-Histogram of standardized deviance residuals"
   ]
  },
  {
   "cell_type": "code",
   "execution_count": 91,
   "metadata": {},
   "outputs": [
    {
     "data": {
      "image/png": "[encoded data removed]",
      "text/plain": [
       "<Figure size 432x288 with 1 Axes>"
      ]
     },
     "metadata": {},
     "output_type": "display_data"
    }
   ],
   "source": [
    "from scipy import stats\n",
    "\n",
    "fig, ax = plt.subplots()\n",
    "\n",
    "resid = res.resid_deviance.copy()\n",
    "resid_std = stats.zscore(resid)\n",
    "ax.hist(resid_std, bins=25)\n",
    "ax.set_title('Histogram of standardized deviance residuals');"
   ]
  },
  {
   "cell_type": "markdown",
   "metadata": {},
   "source": [
    "### 9d)-QQ Plot of Deviance Residuals"
   ]
  },
  {
   "cell_type": "code",
   "execution_count": 92,
   "metadata": {},
   "outputs": [
    {
     "data": {
      "image/png": "[encoded data removed]",
      "text/plain": [
       "<Figure size 432x288 with 1 Axes>"
      ]
     },
     "execution_count": 92,
     "metadata": {},
     "output_type": "execute_result"
    },
    {
     "data": {
      "image/png": "[encoded data removed]",
      "text/plain": [
       "<Figure size 432x288 with 1 Axes>"
      ]
     },
     "metadata": {},
     "output_type": "display_data"
    }
   ],
   "source": [
    "from statsmodels import graphics\n",
    "graphics.gofplots.qqplot(resid, line='r')"
   ]
  }
 ],
 "metadata": {
  "kernelspec": {
   "display_name": "Python 3",
   "language": "python",
   "name": "python3"
  },
  "language_info": {
   "codemirror_mode": {
    "name": "ipython",
    "version": 3
   },
   "file_extension": ".py",
   "mimetype": "text/x-python",
   "name": "python",
   "nbconvert_exporter": "python",
   "pygments_lexer": "ipython3",
   "version": "3.6.5"
  }
 },
 "nbformat": 4,
 "nbformat_minor": 2
}
